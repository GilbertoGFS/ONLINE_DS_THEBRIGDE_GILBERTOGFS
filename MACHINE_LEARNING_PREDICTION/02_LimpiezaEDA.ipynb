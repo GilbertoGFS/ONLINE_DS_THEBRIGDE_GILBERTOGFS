{
 "cells": [
  {
   "cell_type": "markdown",
   "id": "2f48d2f9",
   "metadata": {},
   "source": [
    "**LIMPIEZA EDA**"
   ]
  },
  {
   "cell_type": "code",
   "execution_count": 11,
   "id": "8e5ea479",
   "metadata": {},
   "outputs": [],
   "source": [
    "import pandas as pd\n",
    "import matplotlib.pyplot as plt\n",
    "from pathlib import Path\n",
    "\n",
    "RAW_UK = Path(\"data/raw/online_retail_UK_raw.csv\")\n",
    "PROC_DIR = Path(\"data/processed\"); PROC_DIR.mkdir(parents=True, exist_ok=True)\n",
    "TRAIN_DIR = Path(\"data/train\"); TRAIN_DIR.mkdir(parents=True, exist_ok=True)\n",
    "TEST_DIR  = Path(\"data/test\");  TEST_DIR.mkdir(parents=True, exist_ok=True)\n",
    "\n",
    "assert RAW_UK.exists(), \"No existe data/raw/online_retail_UK_raw.csv\""
   ]
  },
  {
   "cell_type": "code",
   "execution_count": 12,
   "id": "cdbb2704",
   "metadata": {},
   "outputs": [
    {
     "name": "stdout",
     "output_type": "stream",
     "text": [
      "Shape limpio: (485123, 9)\n"
     ]
    },
    {
     "data": {
      "text/html": [
       "<div>\n",
       "<style scoped>\n",
       "    .dataframe tbody tr th:only-of-type {\n",
       "        vertical-align: middle;\n",
       "    }\n",
       "\n",
       "    .dataframe tbody tr th {\n",
       "        vertical-align: top;\n",
       "    }\n",
       "\n",
       "    .dataframe thead th {\n",
       "        text-align: right;\n",
       "    }\n",
       "</style>\n",
       "<table border=\"1\" class=\"dataframe\">\n",
       "  <thead>\n",
       "    <tr style=\"text-align: right;\">\n",
       "      <th></th>\n",
       "      <th>InvoiceNo</th>\n",
       "      <th>StockCode</th>\n",
       "      <th>Description</th>\n",
       "      <th>Quantity</th>\n",
       "      <th>InvoiceDate</th>\n",
       "      <th>UnitPrice</th>\n",
       "      <th>CustomerID</th>\n",
       "      <th>Country</th>\n",
       "      <th>TotalPrice</th>\n",
       "    </tr>\n",
       "  </thead>\n",
       "  <tbody>\n",
       "    <tr>\n",
       "      <th>0</th>\n",
       "      <td>536365</td>\n",
       "      <td>85123A</td>\n",
       "      <td>WHITE HANGING HEART T-LIGHT HOLDER</td>\n",
       "      <td>6</td>\n",
       "      <td>2010-12-01 08:26:00</td>\n",
       "      <td>2.55</td>\n",
       "      <td>17850.0</td>\n",
       "      <td>United Kingdom</td>\n",
       "      <td>15.30</td>\n",
       "    </tr>\n",
       "    <tr>\n",
       "      <th>1</th>\n",
       "      <td>536365</td>\n",
       "      <td>71053</td>\n",
       "      <td>WHITE METAL LANTERN</td>\n",
       "      <td>6</td>\n",
       "      <td>2010-12-01 08:26:00</td>\n",
       "      <td>3.39</td>\n",
       "      <td>17850.0</td>\n",
       "      <td>United Kingdom</td>\n",
       "      <td>20.34</td>\n",
       "    </tr>\n",
       "    <tr>\n",
       "      <th>2</th>\n",
       "      <td>536365</td>\n",
       "      <td>84406B</td>\n",
       "      <td>CREAM CUPID HEARTS COAT HANGER</td>\n",
       "      <td>8</td>\n",
       "      <td>2010-12-01 08:26:00</td>\n",
       "      <td>2.75</td>\n",
       "      <td>17850.0</td>\n",
       "      <td>United Kingdom</td>\n",
       "      <td>22.00</td>\n",
       "    </tr>\n",
       "    <tr>\n",
       "      <th>3</th>\n",
       "      <td>536365</td>\n",
       "      <td>84029G</td>\n",
       "      <td>KNITTED UNION FLAG HOT WATER BOTTLE</td>\n",
       "      <td>6</td>\n",
       "      <td>2010-12-01 08:26:00</td>\n",
       "      <td>3.39</td>\n",
       "      <td>17850.0</td>\n",
       "      <td>United Kingdom</td>\n",
       "      <td>20.34</td>\n",
       "    </tr>\n",
       "    <tr>\n",
       "      <th>4</th>\n",
       "      <td>536365</td>\n",
       "      <td>84029E</td>\n",
       "      <td>RED WOOLLY HOTTIE WHITE HEART.</td>\n",
       "      <td>6</td>\n",
       "      <td>2010-12-01 08:26:00</td>\n",
       "      <td>3.39</td>\n",
       "      <td>17850.0</td>\n",
       "      <td>United Kingdom</td>\n",
       "      <td>20.34</td>\n",
       "    </tr>\n",
       "  </tbody>\n",
       "</table>\n",
       "</div>"
      ],
      "text/plain": [
       "  InvoiceNo StockCode                          Description  Quantity  \\\n",
       "0    536365    85123A   WHITE HANGING HEART T-LIGHT HOLDER         6   \n",
       "1    536365     71053                  WHITE METAL LANTERN         6   \n",
       "2    536365    84406B       CREAM CUPID HEARTS COAT HANGER         8   \n",
       "3    536365    84029G  KNITTED UNION FLAG HOT WATER BOTTLE         6   \n",
       "4    536365    84029E       RED WOOLLY HOTTIE WHITE HEART.         6   \n",
       "\n",
       "          InvoiceDate  UnitPrice  CustomerID         Country  TotalPrice  \n",
       "0 2010-12-01 08:26:00       2.55     17850.0  United Kingdom       15.30  \n",
       "1 2010-12-01 08:26:00       3.39     17850.0  United Kingdom       20.34  \n",
       "2 2010-12-01 08:26:00       2.75     17850.0  United Kingdom       22.00  \n",
       "3 2010-12-01 08:26:00       3.39     17850.0  United Kingdom       20.34  \n",
       "4 2010-12-01 08:26:00       3.39     17850.0  United Kingdom       20.34  "
      ]
     },
     "metadata": {},
     "output_type": "display_data"
    }
   ],
   "source": [
    "df = pd.read_csv(RAW_UK)\n",
    "\n",
    "df[\"InvoiceDate\"] = pd.to_datetime(df[\"InvoiceDate\"], errors=\"coerce\")\n",
    "df = df.dropna(subset=[\"InvoiceDate\"])\n",
    "\n",
    "mask_credit = df[\"InvoiceNo\"].astype(str).str.startswith(\"C\")\n",
    "df = df[~mask_credit]\n",
    "\n",
    "df = df[(df[\"Quantity\"] > 0) & (df[\"UnitPrice\"] > 0)].copy()\n",
    "\n",
    "df[\"TotalPrice\"] = df[\"Quantity\"] * df[\"UnitPrice\"]\n",
    "\n",
    "print(\"Shape limpio:\", df.shape)\n",
    "display(df.head())"
   ]
  },
  {
   "cell_type": "code",
   "execution_count": 13,
   "id": "07ea1b50",
   "metadata": {},
   "outputs": [
    {
     "name": "stdout",
     "output_type": "stream",
     "text": [
      "Guardado: data\\processed\\online_retail_UK_Q1_2011.csv | shape: (87095, 9)\n"
     ]
    }
   ],
   "source": [
    "start = pd.to_datetime(\"2011-01-01\")\n",
    "end   = pd.to_datetime(\"2011-03-31\")\n",
    "df_trim = df[(df[\"InvoiceDate\"] >= start) & (df[\"InvoiceDate\"] <= end)].copy()\n",
    "df_trim.to_csv(PROC_DIR / \"online_retail_UK_Q1_2011.csv\", index=False)\n",
    "print(\"Guardado:\", PROC_DIR / \"online_retail_UK_Q1_2011.csv\", \"| shape:\", df_trim.shape)"
   ]
  },
  {
   "cell_type": "code",
   "execution_count": 14,
   "id": "b57d49c8",
   "metadata": {},
   "outputs": [
    {
     "name": "stdout",
     "output_type": "stream",
     "text": [
      "Guardado: data\\processed\\ventas_diarias.csv | n_días: 86\n"
     ]
    },
    {
     "data": {
      "text/plain": [
       "InvoiceDate\n",
       "2011-01-04    15478.52\n",
       "2011-01-05    31243.29\n",
       "2011-01-06    32429.45\n",
       "2011-01-07    22656.70\n",
       "2011-01-08        0.00\n",
       "Freq: D, Name: TotalPrice, dtype: float64"
      ]
     },
     "execution_count": 14,
     "metadata": {},
     "output_type": "execute_result"
    }
   ],
   "source": [
    "ventas_dia = (\n",
    "    df_trim\n",
    "    .set_index(\"InvoiceDate\")[\"TotalPrice\"]\n",
    "    .resample(\"D\").sum()\n",
    "    .asfreq(\"D\", fill_value=0.0)\n",
    ")\n",
    "ventas_dia.index.name = \"InvoiceDate\"\n",
    "ventas_dia.to_frame(\"TotalPrice\").to_csv(PROC_DIR / \"ventas_diarias.csv\")\n",
    "print(\"Guardado:\", PROC_DIR / \"ventas_diarias.csv\", \"| n_días:\", len(ventas_dia))\n",
    "ventas_dia.head()"
   ]
  },
  {
   "cell_type": "code",
   "execution_count": 15,
   "id": "929c3bbc",
   "metadata": {},
   "outputs": [
    {
     "data": {
      "image/png": "[encoded data removed]",
      "text/plain": [
       "<Figure size 1200x400 with 1 Axes>"
      ]
     },
     "metadata": {},
     "output_type": "display_data"
    },
    {
     "name": "stdout",
     "output_type": "stream",
     "text": [
      "Promedio por weekday:\n",
      " weekday\n",
      "0    20364.80\n",
      "1    32510.09\n",
      "2    20239.92\n",
      "3    22287.35\n",
      "4    20229.56\n",
      "5        0.00\n",
      "6     9114.68\n",
      "Name: TotalPrice, dtype: float64\n",
      "\n",
      "Top 5 días con mayores ventas:\n",
      " InvoiceDate\n",
      "2011-01-18    92427.28\n",
      "2011-01-11    61971.89\n",
      "2011-03-29    51941.27\n",
      "2011-03-24    33792.19\n",
      "2011-03-17    33042.96\n",
      "Name: TotalPrice, dtype: float64\n"
     ]
    }
   ],
   "source": [
    "plt.figure(figsize=(12,4))\n",
    "plt.plot(ventas_dia.index, ventas_dia.values)\n",
    "plt.title(\"Ventas diarias (Q1 2011)\"); plt.ylabel(\"£\"); plt.show()\n",
    "\n",
    "tmp = ventas_dia.to_frame(\"TotalPrice\")\n",
    "tmp[\"weekday\"] = tmp.index.weekday\n",
    "print(\"Promedio por weekday:\\n\", tmp.groupby(\"weekday\")[\"TotalPrice\"].mean().round(2))\n",
    "\n",
    "print(\"\\nTop 5 días con mayores ventas:\\n\", ventas_dia.sort_values(ascending=False).head(5).round(2))"
   ]
  },
  {
   "cell_type": "code",
   "execution_count": 16,
   "id": "384dffb4",
   "metadata": {},
   "outputs": [
    {
     "name": "stdout",
     "output_type": "stream",
     "text": [
      "Train serie: 2011-01-04 hasta 2011-02-28 - n=56\n",
      "Test  serie: 2011-03-01 hasta 2011-03-30 - n=30\n"
     ]
    }
   ],
   "source": [
    "fecha_split = pd.to_datetime(\"2011-03-01\")\n",
    "train_series = ventas_dia.loc[ventas_dia.index < fecha_split]\n",
    "test_series  = ventas_dia.loc[ventas_dia.index >= fecha_split]\n",
    "\n",
    "train_series.to_frame(\"TotalPrice\").to_csv(\"data/train/train_series.csv\")\n",
    "test_series.to_frame(\"TotalPrice\").to_csv(\"data/test/test_series.csv\")\n",
    "\n",
    "print(f\"Train serie: {train_series.index.min().date()} hasta {train_series.index.max().date()} - n={len(train_series)}\")\n",
    "print(f\"Test  serie: {test_series.index.min().date()} hasta {test_series.index.max().date()} - n={len(test_series)}\")"
   ]
  }
 ],
 "metadata": {
  "kernelspec": {
   "display_name": "Python 3",
   "language": "python",
   "name": "python3"
  },
  "language_info": {
   "codemirror_mode": {
    "name": "ipython",
    "version": 3
   },
   "file_extension": ".py",
   "mimetype": "text/x-python",
   "name": "python",
   "nbconvert_exporter": "python",
   "pygments_lexer": "ipython3",
   "version": "3.13.3"
  }
 },
 "nbformat": 4,
 "nbformat_minor": 5
}
