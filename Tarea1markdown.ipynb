{
 "cells": [
  {
   "cell_type": "markdown",
   "id": "fe5b9eab-15e0-4d57-a700-da54b22a7918",
   "metadata": {},
   "source": [
    "# Ciencia de Datos \n",
    "## Introducción\n",
    "### Herramientas"
   ]
  },
  {
   "cell_type": "markdown",
   "id": "325c5d0d-e3c7-4664-b5f2-2e3b18286c42",
   "metadata": {},
   "source": [
    "Creo que tengo otra version de *Jupyther* porque me sale al lado la reproduccion directamente"
   ]
  },
  {
   "cell_type": "markdown",
   "id": "7361e5d5-3809-48db-9fa0-3b49f9cce373",
   "metadata": {},
   "source": [
    "Estoy aprendiendo a utilizar **Markdown** y se que lo dominare"
   ]
  },
  {
   "cell_type": "markdown",
   "id": "9d3f4e6f-47dc-4711-ba91-fee11937b27e",
   "metadata": {},
   "source": [
    "Tengo muchas ganas de aprender ***Python***"
   ]
  },
  {
   "cell_type": "markdown",
   "id": "f5457a3d-ff08-4dda-b82c-be8362a25802",
   "metadata": {},
   "source": [
    "<p style=\"background-color: yellow;\">Resaltado.</p>  "
   ]
  },
  {
   "cell_type": "markdown",
   "id": "8b473098-007d-4cf3-890c-d1668cd1b804",
   "metadata": {},
   "source": [
    "<div style=\"background-color: blue;\"> <h1>color</h1>"
   ]
  },
  {
   "cell_type": "markdown",
   "id": "a070d1c3-a6a9-47d7-b14b-dc6a213c2ce8",
   "metadata": {},
   "source": [
    ">La ciencia de datos es el petróleo del siglo XXI\n",
    ">>"
   ]
  },
  {
   "cell_type": "markdown",
   "id": "3db16fd0-2901-48d1-898f-04ba8ac6e7f4",
   "metadata": {},
   "source": [
    "## Curso de mark downk\n",
    "**IMPORTANTE**\n",
    ">Aprender es crecer  \n",
    "*<div style=\"background-color: green;\"><h1>ejemplo</h1>*"
   ]
  },
  {
   "cell_type": "code",
   "execution_count": null,
   "id": "52b9ef45-6d8f-4b4a-a8d7-6fa5ba7aa290",
   "metadata": {},
   "outputs": [],
   "source": [
    "https://github.com/GilbertoGFS/ONLINE_DS_THEBRIGDE_GILBERTOGFS.git"
   ]
  },
  {
   "cell_type": "code",
   "execution_count": null,
   "id": "72e5b631-f955-4285-a6b4-46ccb7009c45",
   "metadata": {},
   "outputs": [],
   "source": []
  }
 ],
 "metadata": {
  "kernelspec": {
   "display_name": "Python 3 (ipykernel)",
   "language": "python",
   "name": "python3"
  },
  "language_info": {
   "codemirror_mode": {
    "name": "ipython",
    "version": 3
   },
   "file_extension": ".py",
   "mimetype": "text/x-python",
   "name": "python",
   "nbconvert_exporter": "python",
   "pygments_lexer": "ipython3",
   "version": "3.13.3"
  }
 },
 "nbformat": 4,
 "nbformat_minor": 5
}
