{
 "cells": [
  {
   "cell_type": "markdown",
   "id": "11bfde8f-dc03-45fb-8903-e8e029e20e41",
   "metadata": {},
   "source": [
    "* Manzana\n",
    "* Plátanos\n",
    "* Uvas"
   ]
  },
  {
   "cell_type": "markdown",
   "id": "e026215b-e9c0-4a81-92b6-3b40d42d8752",
   "metadata": {},
   "source": [
    "1. Arbol binario\n",
    "2. Random Forest\n",
    "4. Regresión Logística\n"
   ]
  },
  {
   "cell_type": "markdown",
   "id": "8e2dc368-16f4-4106-b96e-a3675698e786",
   "metadata": {},
   "source": [
    "# Frutas y verduras\n",
    "1. Manzana\n",
    "2. Naranja\n",
    "3. Uva    \n",
    "    - Banana\n",
    "    - Sandia\n",
    "    - Melon\n",
    "1. Berenjena\n",
    "2. Calabacin\n",
    "3. Tomate\n",
    "    - Apio\n",
    "    - Cebolla\n",
    "    - Pimiento\n",
    "  \n",
    "     "
   ]
  },
  {
   "cell_type": "markdown",
   "id": "481e4a47-e885-4d7a-b06f-7e800ff79719",
   "metadata": {},
   "source": [
    "[por aquí se cruzan puentes](https://thebridge.tech/)"
   ]
  },
  {
   "cell_type": "markdown",
   "id": "2f4967f7-a75c-440d-b59a-d434d84a5a99",
   "metadata": {},
   "source": [
    "![Logo](https://media.licdn.com/dms/image/v2/D4D0BAQEdAnS92x4UNA/company-logo_200_200/company-logo_200_200/0/1690871298705/the_bridge_digital_talent_accelerator_logo?e=2147483647&v=beta&t=6m4NpZlnV8GHO6TFGxlWNXYnSh3BjTHISTB-Xi0estc)"
   ]
  },
  {
   "cell_type": "markdown",
   "id": "071b0ee7-6414-4fbc-bb86-58abebd645db",
   "metadata": {},
   "source": [
    "---"
   ]
  },
  {
   "cell_type": "code",
   "execution_count": 32,
   "id": "87b833cc-67a3-41c3-a0c1-4edea32c7c53",
   "metadata": {},
   "outputs": [
    {
     "name": "stdout",
     "output_type": "stream",
     "text": [
      "Hola mundo\n"
     ]
    }
   ],
   "source": [
    "print(\"Hola mundo\")"
   ]
  },
  {
   "cell_type": "markdown",
   "id": "cfba1e0d-deab-4b82-8350-1140f70a0e71",
   "metadata": {},
   "source": [
    "***"
   ]
  },
  {
   "cell_type": "code",
   "execution_count": null,
   "id": "857d10d5-2aa8-43c9-9382-cd51a25b6fc5",
   "metadata": {},
   "outputs": [],
   "source": []
  }
 ],
 "metadata": {
  "kernelspec": {
   "display_name": "Python 3 (ipykernel)",
   "language": "python",
   "name": "python3"
  },
  "language_info": {
   "codemirror_mode": {
    "name": "ipython",
    "version": 3
   },
   "file_extension": ".py",
   "mimetype": "text/x-python",
   "name": "python",
   "nbconvert_exporter": "python",
   "pygments_lexer": "ipython3",
   "version": "3.13.3"
  }
 },
 "nbformat": 4,
 "nbformat_minor": 5
}
