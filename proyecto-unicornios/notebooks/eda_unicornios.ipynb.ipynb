{
 "cells": [
  {
   "cell_type": "markdown",
   "id": "c22a0c68",
   "metadata": {},
   "source": [
    "**TITULO**: Estudio de Startups Unicornio: Concentración, Sectores y Crecimiento\n",
    "\n",
    "**TEMA**: Análisis de la concentración geográfica y sectorial del surgimiento de startups unicornio a nivel mundial, y su relación con indicadores económicos.\n",
    "\n",
    "**HIPOTESIS PRINCIPAL**: El surgimiento de empresas unicornio se ha concentrado en ciertas industrias y regiones del mundo, reflejando patrones de innovación y crecimiento económico desiguales.\n",
    "\n",
    "**Subhipotesis 1**: La mayoría de las empresas unicornio se concentran en un pequeño número de países, especialmente en EE.UU. y China. (CONCENTRACION GLOBAL).\n",
    "\n",
    "**Subhipotesis 2**: El sector fintech ha producido más unicornios que cualquier otro sector entre 2010 y 2022. (SECTOR DOMINANTE).\n",
    "\n",
    "**Subhipotesis 3**: Las startups más valoradas alcanzaron el estatus de unicornio en menos de 6 años desde su fundación. (VELOCIDAD DE CRECIMIENTO).\n",
    "\n",
    "**Subhipotesis 4**: El número de startups unicornio ha crecido de manera exponencial entre 2013 y 2022. (VELOCIDAD DE CRECIMIENTO).\n",
    "\n",
    "**Subhipotesis 5**: La presencia de unicornios en un país está positivamente correlacionada con su Producto Interno Bruto (PIB) - (IMPACTO ECONOMICO)."
   ]
  },
  {
   "cell_type": "code",
   "execution_count": 1,
   "id": "e93b011f",
   "metadata": {},
   "outputs": [],
   "source": [
    "import pandas as pd\n",
    "import numpy as np\n",
    "import matplotlib.pyplot as plt\n",
    "import seaborn as sns"
   ]
  },
  {
   "cell_type": "code",
   "execution_count": 2,
   "id": "0a0d4784",
   "metadata": {},
   "outputs": [],
   "source": [
    "#SE COMENZO A TRABAJAR CON ESTE DATAFRAME, PERO SE OBSERVO QUE HABIAN MUCHOS VALORES CUALITATIVOS Y FALTABAN ALGUNOS CUANTITATIVOS \n",
    "# POR LO QUE SE HIZO UNA BUSQUEDA DE UN DATAFRAME CON MAS DATOS Y DESCARTAMOS ESTE.\n",
    "DF_PRUEBA = pd.read_csv(r'C:\\Users\\Gilberto\\Desktop\\proyecto-unicornios\\data\\DESCARTADO POR FALTA DE INFORMACION.csv')"
   ]
  },
  {
   "cell_type": "code",
   "execution_count": 3,
   "id": "671994f9",
   "metadata": {},
   "outputs": [
    {
     "data": {
      "text/html": [
       "<div>\n",
       "<style scoped>\n",
       "    .dataframe tbody tr th:only-of-type {\n",
       "        vertical-align: middle;\n",
       "    }\n",
       "\n",
       "    .dataframe tbody tr th {\n",
       "        vertical-align: top;\n",
       "    }\n",
       "\n",
       "    .dataframe thead th {\n",
       "        text-align: right;\n",
       "    }\n",
       "</style>\n",
       "<table border=\"1\" class=\"dataframe\">\n",
       "  <thead>\n",
       "    <tr style=\"text-align: right;\">\n",
       "      <th></th>\n",
       "      <th>Unnamed: 0</th>\n",
       "      <th>Company</th>\n",
       "      <th>Valuation ($B)</th>\n",
       "      <th>Date Joined</th>\n",
       "      <th>Country</th>\n",
       "      <th>City</th>\n",
       "      <th>Industry</th>\n",
       "      <th>Select Investors</th>\n",
       "    </tr>\n",
       "  </thead>\n",
       "  <tbody>\n",
       "    <tr>\n",
       "      <th>0</th>\n",
       "      <td>0</td>\n",
       "      <td>Bytedance</td>\n",
       "      <td>$140</td>\n",
       "      <td>4/7/2017</td>\n",
       "      <td>China</td>\n",
       "      <td>Beijing</td>\n",
       "      <td>Artificial intelligence</td>\n",
       "      <td>Sequoia Capital China, SIG Asia Investments, S...</td>\n",
       "    </tr>\n",
       "    <tr>\n",
       "      <th>1</th>\n",
       "      <td>1</td>\n",
       "      <td>SpaceX</td>\n",
       "      <td>$100.3</td>\n",
       "      <td>12/1/2012</td>\n",
       "      <td>United States</td>\n",
       "      <td>Hawthorne</td>\n",
       "      <td>Other</td>\n",
       "      <td>Founders Fund, Draper Fisher Jurvetson, Rothen...</td>\n",
       "    </tr>\n",
       "    <tr>\n",
       "      <th>2</th>\n",
       "      <td>2</td>\n",
       "      <td>Stripe</td>\n",
       "      <td>$95</td>\n",
       "      <td>1/23/2014</td>\n",
       "      <td>United States</td>\n",
       "      <td>San Francisco</td>\n",
       "      <td>Fintech</td>\n",
       "      <td>Khosla Ventures, LowercaseCapital, capitalG</td>\n",
       "    </tr>\n",
       "  </tbody>\n",
       "</table>\n",
       "</div>"
      ],
      "text/plain": [
       "   Unnamed: 0    Company Valuation ($B) Date Joined        Country  \\\n",
       "0           0  Bytedance           $140    4/7/2017          China   \n",
       "1           1     SpaceX         $100.3   12/1/2012  United States   \n",
       "2           2     Stripe            $95   1/23/2014  United States   \n",
       "\n",
       "            City                 Industry  \\\n",
       "0        Beijing  Artificial intelligence   \n",
       "1      Hawthorne                    Other   \n",
       "2  San Francisco                  Fintech   \n",
       "\n",
       "                                    Select Investors  \n",
       "0  Sequoia Capital China, SIG Asia Investments, S...  \n",
       "1  Founders Fund, Draper Fisher Jurvetson, Rothen...  \n",
       "2        Khosla Ventures, LowercaseCapital, capitalG  "
      ]
     },
     "execution_count": 3,
     "metadata": {},
     "output_type": "execute_result"
    }
   ],
   "source": [
    "DF_PRUEBA.head(3)"
   ]
  },
  {
   "cell_type": "code",
   "execution_count": 4,
   "id": "a4482584",
   "metadata": {},
   "outputs": [],
   "source": [
    "#IMPORTAMOS EL DATASET QUE HEMOS ENCONTRADO DE LAS STARTUPS UNICORN\n",
    "df_base = pd.read_csv(r'C:\\Users\\Gilberto\\Desktop\\proyecto-unicornios\\data\\unicorn_2022.csv')"
   ]
  },
  {
   "cell_type": "code",
   "execution_count": 5,
   "id": "7786244f",
   "metadata": {},
   "outputs": [
    {
     "data": {
      "text/html": [
       "<div>\n",
       "<style scoped>\n",
       "    .dataframe tbody tr th:only-of-type {\n",
       "        vertical-align: middle;\n",
       "    }\n",
       "\n",
       "    .dataframe tbody tr th {\n",
       "        vertical-align: top;\n",
       "    }\n",
       "\n",
       "    .dataframe thead th {\n",
       "        text-align: right;\n",
       "    }\n",
       "</style>\n",
       "<table border=\"1\" class=\"dataframe\">\n",
       "  <thead>\n",
       "    <tr style=\"text-align: right;\">\n",
       "      <th></th>\n",
       "      <th>Company</th>\n",
       "      <th>Valuation</th>\n",
       "      <th>Date Joined</th>\n",
       "      <th>Industry</th>\n",
       "      <th>City</th>\n",
       "      <th>Country</th>\n",
       "      <th>Continent</th>\n",
       "      <th>Year Founded</th>\n",
       "      <th>Funding</th>\n",
       "      <th>Select Investors</th>\n",
       "    </tr>\n",
       "  </thead>\n",
       "  <tbody>\n",
       "    <tr>\n",
       "      <th>0</th>\n",
       "      <td>Bytedance</td>\n",
       "      <td>$180B</td>\n",
       "      <td>2017-04-07</td>\n",
       "      <td>Artificial intelligence</td>\n",
       "      <td>Beijing</td>\n",
       "      <td>China</td>\n",
       "      <td>Asia</td>\n",
       "      <td>2012</td>\n",
       "      <td>$8B</td>\n",
       "      <td>Sequoia Capital China, SIG Asia Investments, S...</td>\n",
       "    </tr>\n",
       "    <tr>\n",
       "      <th>1</th>\n",
       "      <td>SpaceX</td>\n",
       "      <td>$100B</td>\n",
       "      <td>2012-12-01</td>\n",
       "      <td>Other</td>\n",
       "      <td>Hawthorne</td>\n",
       "      <td>United States</td>\n",
       "      <td>North America</td>\n",
       "      <td>2002</td>\n",
       "      <td>$7B</td>\n",
       "      <td>Founders Fund, Draper Fisher Jurvetson, Rothen...</td>\n",
       "    </tr>\n",
       "    <tr>\n",
       "      <th>2</th>\n",
       "      <td>SHEIN</td>\n",
       "      <td>$100B</td>\n",
       "      <td>2018-07-03</td>\n",
       "      <td>E-commerce &amp; direct-to-consumer</td>\n",
       "      <td>Shenzhen</td>\n",
       "      <td>China</td>\n",
       "      <td>Asia</td>\n",
       "      <td>2008</td>\n",
       "      <td>$2B</td>\n",
       "      <td>Tiger Global Management, Sequoia Capital China...</td>\n",
       "    </tr>\n",
       "    <tr>\n",
       "      <th>3</th>\n",
       "      <td>Stripe</td>\n",
       "      <td>$95B</td>\n",
       "      <td>2014-01-23</td>\n",
       "      <td>Fintech</td>\n",
       "      <td>San Francisco</td>\n",
       "      <td>United States</td>\n",
       "      <td>North America</td>\n",
       "      <td>2010</td>\n",
       "      <td>$2B</td>\n",
       "      <td>Khosla Ventures, LowercaseCapital, capitalG</td>\n",
       "    </tr>\n",
       "    <tr>\n",
       "      <th>4</th>\n",
       "      <td>Klarna</td>\n",
       "      <td>$46B</td>\n",
       "      <td>2011-12-12</td>\n",
       "      <td>Fintech</td>\n",
       "      <td>Stockholm</td>\n",
       "      <td>Sweden</td>\n",
       "      <td>Europe</td>\n",
       "      <td>2005</td>\n",
       "      <td>$4B</td>\n",
       "      <td>Institutional Venture Partners, Sequoia Capita...</td>\n",
       "    </tr>\n",
       "    <tr>\n",
       "      <th>...</th>\n",
       "      <td>...</td>\n",
       "      <td>...</td>\n",
       "      <td>...</td>\n",
       "      <td>...</td>\n",
       "      <td>...</td>\n",
       "      <td>...</td>\n",
       "      <td>...</td>\n",
       "      <td>...</td>\n",
       "      <td>...</td>\n",
       "      <td>...</td>\n",
       "    </tr>\n",
       "    <tr>\n",
       "      <th>1069</th>\n",
       "      <td>Zhaogang</td>\n",
       "      <td>$1B</td>\n",
       "      <td>2017-06-29</td>\n",
       "      <td>E-commerce &amp; direct-to-consumer</td>\n",
       "      <td>Shanghai</td>\n",
       "      <td>China</td>\n",
       "      <td>Asia</td>\n",
       "      <td>2012</td>\n",
       "      <td>$379M</td>\n",
       "      <td>K2 Ventures, Matrix Partners China, IDG Capital</td>\n",
       "    </tr>\n",
       "    <tr>\n",
       "      <th>1070</th>\n",
       "      <td>Zhuan Zhuan</td>\n",
       "      <td>$1B</td>\n",
       "      <td>2017-04-18</td>\n",
       "      <td>E-commerce &amp; direct-to-consumer</td>\n",
       "      <td>Beijing</td>\n",
       "      <td>China</td>\n",
       "      <td>Asia</td>\n",
       "      <td>2015</td>\n",
       "      <td>$990M</td>\n",
       "      <td>58.com, Tencent Holdings</td>\n",
       "    </tr>\n",
       "    <tr>\n",
       "      <th>1071</th>\n",
       "      <td>Zihaiguo</td>\n",
       "      <td>$1B</td>\n",
       "      <td>2021-05-06</td>\n",
       "      <td>Consumer &amp; retail</td>\n",
       "      <td>Chongqing</td>\n",
       "      <td>China</td>\n",
       "      <td>Asia</td>\n",
       "      <td>2018</td>\n",
       "      <td>$80M</td>\n",
       "      <td>Xingwang Investment Management, China Capital ...</td>\n",
       "    </tr>\n",
       "    <tr>\n",
       "      <th>1072</th>\n",
       "      <td>Zopa</td>\n",
       "      <td>$1B</td>\n",
       "      <td>2021-10-19</td>\n",
       "      <td>Fintech</td>\n",
       "      <td>London</td>\n",
       "      <td>United Kingdom</td>\n",
       "      <td>Europe</td>\n",
       "      <td>2005</td>\n",
       "      <td>$792M</td>\n",
       "      <td>IAG Capital Partners, Augmentum Fintech, North...</td>\n",
       "    </tr>\n",
       "    <tr>\n",
       "      <th>1073</th>\n",
       "      <td>Zwift</td>\n",
       "      <td>$1B</td>\n",
       "      <td>2020-09-16</td>\n",
       "      <td>E-commerce &amp; direct-to-consumer</td>\n",
       "      <td>Long Beach</td>\n",
       "      <td>United States</td>\n",
       "      <td>North America</td>\n",
       "      <td>2014</td>\n",
       "      <td>$620M</td>\n",
       "      <td>Novator Partners, True, Causeway Media Partners</td>\n",
       "    </tr>\n",
       "  </tbody>\n",
       "</table>\n",
       "<p>1074 rows × 10 columns</p>\n",
       "</div>"
      ],
      "text/plain": [
       "          Company Valuation Date Joined                         Industry  \\\n",
       "0       Bytedance     $180B  2017-04-07          Artificial intelligence   \n",
       "1          SpaceX     $100B  2012-12-01                            Other   \n",
       "2           SHEIN     $100B  2018-07-03  E-commerce & direct-to-consumer   \n",
       "3          Stripe      $95B  2014-01-23                          Fintech   \n",
       "4          Klarna      $46B  2011-12-12                          Fintech   \n",
       "...           ...       ...         ...                              ...   \n",
       "1069     Zhaogang       $1B  2017-06-29  E-commerce & direct-to-consumer   \n",
       "1070  Zhuan Zhuan       $1B  2017-04-18  E-commerce & direct-to-consumer   \n",
       "1071     Zihaiguo       $1B  2021-05-06                Consumer & retail   \n",
       "1072         Zopa       $1B  2021-10-19                          Fintech   \n",
       "1073        Zwift       $1B  2020-09-16  E-commerce & direct-to-consumer   \n",
       "\n",
       "               City         Country      Continent  Year Founded Funding  \\\n",
       "0           Beijing           China           Asia          2012     $8B   \n",
       "1         Hawthorne   United States  North America          2002     $7B   \n",
       "2          Shenzhen           China           Asia          2008     $2B   \n",
       "3     San Francisco   United States  North America          2010     $2B   \n",
       "4         Stockholm          Sweden         Europe          2005     $4B   \n",
       "...             ...             ...            ...           ...     ...   \n",
       "1069       Shanghai           China           Asia          2012   $379M   \n",
       "1070        Beijing           China           Asia          2015   $990M   \n",
       "1071      Chongqing           China           Asia          2018    $80M   \n",
       "1072         London  United Kingdom         Europe          2005   $792M   \n",
       "1073     Long Beach   United States  North America          2014   $620M   \n",
       "\n",
       "                                       Select Investors  \n",
       "0     Sequoia Capital China, SIG Asia Investments, S...  \n",
       "1     Founders Fund, Draper Fisher Jurvetson, Rothen...  \n",
       "2     Tiger Global Management, Sequoia Capital China...  \n",
       "3           Khosla Ventures, LowercaseCapital, capitalG  \n",
       "4     Institutional Venture Partners, Sequoia Capita...  \n",
       "...                                                 ...  \n",
       "1069    K2 Ventures, Matrix Partners China, IDG Capital  \n",
       "1070                           58.com, Tencent Holdings  \n",
       "1071  Xingwang Investment Management, China Capital ...  \n",
       "1072  IAG Capital Partners, Augmentum Fintech, North...  \n",
       "1073    Novator Partners, True, Causeway Media Partners  \n",
       "\n",
       "[1074 rows x 10 columns]"
      ]
     },
     "execution_count": 5,
     "metadata": {},
     "output_type": "execute_result"
    }
   ],
   "source": [
    "#HACEMOS UNA VISTA DE LAS COLUMNAS Y FILAS QUE TENEMOS\n",
    "df_base"
   ]
  },
  {
   "cell_type": "code",
   "execution_count": 6,
   "id": "d342f53a",
   "metadata": {},
   "outputs": [
    {
     "name": "stdout",
     "output_type": "stream",
     "text": [
      "<class 'pandas.core.frame.DataFrame'>\n",
      "RangeIndex: 1074 entries, 0 to 1073\n",
      "Data columns (total 10 columns):\n",
      " #   Column            Non-Null Count  Dtype \n",
      "---  ------            --------------  ----- \n",
      " 0   Company           1074 non-null   object\n",
      " 1   Valuation         1074 non-null   object\n",
      " 2   Date Joined       1074 non-null   object\n",
      " 3   Industry          1074 non-null   object\n",
      " 4   City              1058 non-null   object\n",
      " 5   Country           1074 non-null   object\n",
      " 6   Continent         1074 non-null   object\n",
      " 7   Year Founded      1074 non-null   int64 \n",
      " 8   Funding           1074 non-null   object\n",
      " 9   Select Investors  1073 non-null   object\n",
      "dtypes: int64(1), object(9)\n",
      "memory usage: 84.0+ KB\n"
     ]
    }
   ],
   "source": [
    "#PEDIMOS INFORMACION PARA VER SI TENEMOS TODOS LOS CAMPOS RELLENOS O NO\n",
    "df_base.info()"
   ]
  },
  {
   "cell_type": "code",
   "execution_count": 7,
   "id": "1db44e4e",
   "metadata": {},
   "outputs": [
    {
     "name": "stdout",
     "output_type": "stream",
     "text": [
      "Company              0\n",
      "Valuation            0\n",
      "Date Joined          0\n",
      "Industry             0\n",
      "City                16\n",
      "Country              0\n",
      "Continent            0\n",
      "Year Founded         0\n",
      "Funding              0\n",
      "Select Investors     1\n",
      "dtype: int64\n"
     ]
    }
   ],
   "source": [
    "#SUMAMOS TODOS LOS NULL PARA SABER QUE CANTIDAD HAY EN CADA COLUMNA\n",
    "print(df_base.isnull().sum())"
   ]
  },
  {
   "cell_type": "code",
   "execution_count": 8,
   "id": "a077dacb",
   "metadata": {},
   "outputs": [
    {
     "name": "stdout",
     "output_type": "stream",
     "text": [
      "Company             0.000000\n",
      "Valuation           0.000000\n",
      "Date Joined         0.000000\n",
      "Industry            0.000000\n",
      "City                1.489758\n",
      "Country             0.000000\n",
      "Continent           0.000000\n",
      "Year Founded        0.000000\n",
      "Funding             0.000000\n",
      "Select Investors    0.093110\n",
      "dtype: float64\n"
     ]
    }
   ],
   "source": [
    "#SACAMOS EL PORCENTAJE PARA SABER CON RESPECTO AL TOTAL SI HAY MUCHOS NULOS O NO, A COMPROBAR QUE HAY MUY POCOS\n",
    "#SE TOMA LA DECISION DE RELLENAR ESOS VALORES PORQUE EL PORCENTAJE ES MUY BAJO\n",
    "print(df_base.isnull().mean() * 100)"
   ]
  },
  {
   "cell_type": "code",
   "execution_count": 9,
   "id": "f512db53",
   "metadata": {},
   "outputs": [],
   "source": [
    "df_base[\"City\"] = df_base[\"City\"].fillna(\"Unknown\")"
   ]
  },
  {
   "cell_type": "code",
   "execution_count": 10,
   "id": "e9b6bf69",
   "metadata": {},
   "outputs": [],
   "source": [
    "df_base[\"Select Investors\"] = df_base[\"Select Investors\"].fillna(\"Unknown\")"
   ]
  },
  {
   "cell_type": "code",
   "execution_count": 11,
   "id": "76853c29",
   "metadata": {},
   "outputs": [
    {
     "data": {
      "text/plain": [
       "Company             0\n",
       "Valuation           0\n",
       "Date Joined         0\n",
       "Industry            0\n",
       "City                0\n",
       "Country             0\n",
       "Continent           0\n",
       "Year Founded        0\n",
       "Funding             0\n",
       "Select Investors    0\n",
       "dtype: int64"
      ]
     },
     "execution_count": 11,
     "metadata": {},
     "output_type": "execute_result"
    }
   ],
   "source": [
    "#COMPROBAMOS QUE YA NO TENGA VALORES FALTANTES EN MI DATAFRAME\n",
    "df_base.isnull().sum()"
   ]
  },
  {
   "cell_type": "code",
   "execution_count": 12,
   "id": "730b2265",
   "metadata": {},
   "outputs": [
    {
     "data": {
      "text/plain": [
       "array(['China', 'United States', 'Sweden', 'Australia', 'United Kingdom',\n",
       "       'Bahamas', 'India', 'Indonesia', 'Turkey', 'Estonia', 'Germany',\n",
       "       'Hong Kong', 'South Korea', 'Mexico', 'Canada', 'Netherlands',\n",
       "       'France', 'Finland', 'Israel', 'Lithuania', 'Denmark', 'Belgium',\n",
       "       'Colombia', 'Brazil', 'Singapore', 'Austria', 'Ireland',\n",
       "       'United Arab Emirates', 'Switzerland', 'Vietnam', 'South Africa',\n",
       "       'Thailand', 'Norway', 'Chile', 'Argentina', 'Bermuda', 'Japan',\n",
       "       'Spain', 'Malaysia', 'Senegal', 'Philippines', 'Luxembourg',\n",
       "       'Nigeria', 'Czech Republic', 'Croatia', 'Italy'], dtype=object)"
      ]
     },
     "execution_count": 12,
     "metadata": {},
     "output_type": "execute_result"
    }
   ],
   "source": [
    "#HACEMOS UNA VISTA DE LOS PAISES QUE TENEMOS Y \n",
    "df_base[\"Country\"].unique()"
   ]
  },
  {
   "cell_type": "code",
   "execution_count": 13,
   "id": "de98c57c",
   "metadata": {},
   "outputs": [
    {
     "data": {
      "text/plain": [
       "46"
      ]
     },
     "execution_count": 13,
     "metadata": {},
     "output_type": "execute_result"
    }
   ],
   "source": [
    "df_base[\"Country\"].nunique()"
   ]
  },
  {
   "cell_type": "code",
   "execution_count": 14,
   "id": "7cdbdab1",
   "metadata": {},
   "outputs": [],
   "source": [
    "#CONVERTIMOS LA COLUMNA DATE JOINED EN TIPO FECHA PARA ASEGURARNOS QUE LO PODEMOS USAR MAS ADELANTE\n",
    "df_base[\"Date Joined\"] = pd.to_datetime(df_base[\"Date Joined\"], errors=\"coerce\")"
   ]
  },
  {
   "cell_type": "code",
   "execution_count": 15,
   "id": "7df1c04e",
   "metadata": {},
   "outputs": [],
   "source": [
    "#HACEMOS UN CALCULO DEL TIEMPO EN QUE TARDO UNA STARTUPS UNICORNIO EN LLEGAR A ESE STATUS RESTANDO CUANDO SE FUNDO HASTA CUANDO SE CONSIDERO UNICORNIO\n",
    "df_base[\"Years to Unicorn\"] = df_base[\"Date Joined\"].dt.year - df_base[\"Year Founded\"]"
   ]
  },
  {
   "cell_type": "code",
   "execution_count": 16,
   "id": "23767b66",
   "metadata": {},
   "outputs": [
    {
     "data": {
      "text/html": [
       "<div>\n",
       "<style scoped>\n",
       "    .dataframe tbody tr th:only-of-type {\n",
       "        vertical-align: middle;\n",
       "    }\n",
       "\n",
       "    .dataframe tbody tr th {\n",
       "        vertical-align: top;\n",
       "    }\n",
       "\n",
       "    .dataframe thead th {\n",
       "        text-align: right;\n",
       "    }\n",
       "</style>\n",
       "<table border=\"1\" class=\"dataframe\">\n",
       "  <thead>\n",
       "    <tr style=\"text-align: right;\">\n",
       "      <th></th>\n",
       "      <th>Company</th>\n",
       "      <th>Year Founded</th>\n",
       "      <th>Date Joined</th>\n",
       "      <th>Years to Unicorn</th>\n",
       "    </tr>\n",
       "  </thead>\n",
       "  <tbody>\n",
       "    <tr>\n",
       "      <th>0</th>\n",
       "      <td>Bytedance</td>\n",
       "      <td>2012</td>\n",
       "      <td>2017-04-07</td>\n",
       "      <td>5</td>\n",
       "    </tr>\n",
       "    <tr>\n",
       "      <th>1</th>\n",
       "      <td>SpaceX</td>\n",
       "      <td>2002</td>\n",
       "      <td>2012-12-01</td>\n",
       "      <td>10</td>\n",
       "    </tr>\n",
       "    <tr>\n",
       "      <th>2</th>\n",
       "      <td>SHEIN</td>\n",
       "      <td>2008</td>\n",
       "      <td>2018-07-03</td>\n",
       "      <td>10</td>\n",
       "    </tr>\n",
       "    <tr>\n",
       "      <th>3</th>\n",
       "      <td>Stripe</td>\n",
       "      <td>2010</td>\n",
       "      <td>2014-01-23</td>\n",
       "      <td>4</td>\n",
       "    </tr>\n",
       "    <tr>\n",
       "      <th>4</th>\n",
       "      <td>Klarna</td>\n",
       "      <td>2005</td>\n",
       "      <td>2011-12-12</td>\n",
       "      <td>6</td>\n",
       "    </tr>\n",
       "  </tbody>\n",
       "</table>\n",
       "</div>"
      ],
      "text/plain": [
       "     Company  Year Founded Date Joined  Years to Unicorn\n",
       "0  Bytedance          2012  2017-04-07                 5\n",
       "1     SpaceX          2002  2012-12-01                10\n",
       "2      SHEIN          2008  2018-07-03                10\n",
       "3     Stripe          2010  2014-01-23                 4\n",
       "4     Klarna          2005  2011-12-12                 6"
      ]
     },
     "execution_count": 16,
     "metadata": {},
     "output_type": "execute_result"
    }
   ],
   "source": [
    "#HACEMOS UNA VISTA QUE TODOO HAYA FUNCIONADO BIEN.\n",
    "df_base[[\"Company\", \"Year Founded\", \"Date Joined\", \"Years to Unicorn\"]].head(5)"
   ]
  },
  {
   "cell_type": "code",
   "execution_count": 17,
   "id": "9178669b",
   "metadata": {},
   "outputs": [
    {
     "data": {
      "text/plain": [
       "Country\n",
       "United States     562\n",
       "China             173\n",
       "India              65\n",
       "United Kingdom     43\n",
       "Germany            26\n",
       "France             24\n",
       "Israel             20\n",
       "Canada             19\n",
       "Brazil             16\n",
       "Singapore          12\n",
       "Name: count, dtype: int64"
      ]
     },
     "execution_count": 17,
     "metadata": {},
     "output_type": "execute_result"
    }
   ],
   "source": [
    "#HACEMOS UN CONTEO DE CUANTOS UNICORNIOS HAY POR PAISES\n",
    "unicorns_por_pais = df_base[\"Country\"].value_counts()\n",
    "unicorns_por_pais.head(10)"
   ]
  },
  {
   "cell_type": "code",
   "execution_count": 18,
   "id": "e22a6737",
   "metadata": {},
   "outputs": [],
   "source": [
    "# SACAMOS EL TOTAL DE LAS FILAS\n",
    "total_unicornios = df_base.shape[0]"
   ]
  },
  {
   "cell_type": "code",
   "execution_count": 19,
   "id": "49c0e721",
   "metadata": {},
   "outputs": [],
   "source": [
    "#SACAMOS EL PORCENTRAJE DEL TOP 2\n",
    "porcentaje_top = (unicorns_por_pais / total_unicornios) * 100"
   ]
  },
  {
   "cell_type": "code",
   "execution_count": 20,
   "id": "b79f3776",
   "metadata": {},
   "outputs": [
    {
     "data": {
      "text/plain": [
       "Country\n",
       "United States    52.327747\n",
       "China            16.108007\n",
       "Name: count, dtype: float64"
      ]
     },
     "execution_count": 20,
     "metadata": {},
     "output_type": "execute_result"
    }
   ],
   "source": [
    "porcentaje_top.head(2)"
   ]
  },
  {
   "cell_type": "code",
   "execution_count": 21,
   "id": "d609c839",
   "metadata": {},
   "outputs": [
    {
     "data": {
      "text/plain": [
       "1074"
      ]
     },
     "execution_count": 21,
     "metadata": {},
     "output_type": "execute_result"
    }
   ],
   "source": [
    "total_unicornios"
   ]
  },
  {
   "cell_type": "code",
   "execution_count": 22,
   "id": "0931937c",
   "metadata": {},
   "outputs": [
    {
     "name": "stderr",
     "output_type": "stream",
     "text": [
      "C:\\Users\\Gilberto\\AppData\\Local\\Temp\\ipykernel_18220\\2237832037.py:5: FutureWarning: \n",
      "\n",
      "Passing `palette` without assigning `hue` is deprecated and will be removed in v0.14.0. Assign the `x` variable to `hue` and set `legend=False` for the same effect.\n",
      "\n",
      "  ax = sns.barplot(x = top_paises.index, y = top_paises.values, palette = \"viridis\")\n"
     ]
    },
    {
     "data": {
      "image/png": "[encoded data removed]",
      "text/plain": [
       "<Figure size 1200x600 with 1 Axes>"
      ]
     },
     "metadata": {},
     "output_type": "display_data"
    }
   ],
   "source": [
    "# GRAFICAMOS EL TOP DE LOS 10 PRIMEROS PAISES CON MAS UNICORNIOS Y LO RECORREMOS PARA PODER COLOCAR LA CANTIDAD DE STARTUPS EN CADA BARRA\n",
    "top_paises = df_base[\"Country\"].value_counts().head(10)\n",
    "\n",
    "plt.figure(figsize = (12,6))\n",
    "ax = sns.barplot(x = top_paises.index, y = top_paises.values, palette = \"viridis\")\n",
    "\n",
    "plt.title(\"Top 10 países con más startups unicornio\")\n",
    "plt.xlabel(\"País\")\n",
    "plt.ylabel(\"Número de unicornios\")\n",
    "\n",
    "for i, valor in enumerate(top_paises.values):\n",
    "    ax.text(i, valor + 5, str(valor), color='black', ha = 'center', fontweight = 'bold')\n",
    "\n",
    "plt.tight_layout();"
   ]
  },
  {
   "cell_type": "code",
   "execution_count": 23,
   "id": "8f525d7a",
   "metadata": {},
   "outputs": [],
   "source": [
    "# AHORA FILTRAMOS Y NOS QUEDAMOS CON LAS EMPRESAS FUNDADAS ENTRE EL 2010 Y EL 2022\n",
    "df_2010_2022 = df_base[(df_base[\"Year Founded\"] >= 2010) & (df_base[\"Year Founded\"] <= 2022)]"
   ]
  },
  {
   "cell_type": "code",
   "execution_count": 24,
   "id": "2dabfa93",
   "metadata": {},
   "outputs": [
    {
     "data": {
      "text/plain": [
       "Industry\n",
       "Fintech                                199\n",
       "Internet software & services           166\n",
       "E-commerce & direct-to-consumer         84\n",
       "Artificial intelligence                 64\n",
       "Health                                  63\n",
       "Supply chain, logistics, & delivery     50\n",
       "Other                                   46\n",
       "Cybersecurity                           42\n",
       "Data management & analytics             32\n",
       "Mobile & telecommunications             30\n",
       "Name: count, dtype: int64"
      ]
     },
     "execution_count": 24,
     "metadata": {},
     "output_type": "execute_result"
    }
   ],
   "source": [
    "# CONTAMOS LAS EMPRESAS POR SECTOR QUE EXISTEN EN ESE RANGO \n",
    "unicornios_por_sector = df_2010_2022[\"Industry\"].value_counts()\n",
    "unicornios_por_sector.head(10)"
   ]
  },
  {
   "cell_type": "code",
   "execution_count": 25,
   "id": "cd46c28e",
   "metadata": {},
   "outputs": [
    {
     "data": {
      "image/png": "[encoded data removed]",
      "text/plain": [
       "<Figure size 800x800 with 1 Axes>"
      ]
     },
     "metadata": {},
     "output_type": "display_data"
    }
   ],
   "source": [
    "# GRAFICAMOS EN UN PIE PARA VISUALIZAR EL PORCENTAJE DE LA EMPRESA CON EL SECTOR MAS DOMINANTE\n",
    "top_sectores = unicornios_por_sector.head(10)\n",
    "\n",
    "plt.figure(figsize=(8,8))\n",
    "plt.pie(top_sectores, labels=top_sectores.index, autopct='%1.1f%%', startangle=140, colors=plt.cm.tab20.colors)\n",
    "plt.title(\"Distribución de startups unicornio por sector (2010-2022)\")\n",
    "plt.axis('equal');"
   ]
  },
  {
   "cell_type": "code",
   "execution_count": 26,
   "id": "1edeb9c4",
   "metadata": {},
   "outputs": [
    {
     "data": {
      "text/html": [
       "<div>\n",
       "<style scoped>\n",
       "    .dataframe tbody tr th:only-of-type {\n",
       "        vertical-align: middle;\n",
       "    }\n",
       "\n",
       "    .dataframe tbody tr th {\n",
       "        vertical-align: top;\n",
       "    }\n",
       "\n",
       "    .dataframe thead th {\n",
       "        text-align: right;\n",
       "    }\n",
       "</style>\n",
       "<table border=\"1\" class=\"dataframe\">\n",
       "  <thead>\n",
       "    <tr style=\"text-align: right;\">\n",
       "      <th></th>\n",
       "      <th>Company</th>\n",
       "      <th>Year Founded</th>\n",
       "      <th>Date Joined</th>\n",
       "      <th>Years to Unicorn</th>\n",
       "    </tr>\n",
       "  </thead>\n",
       "  <tbody>\n",
       "    <tr>\n",
       "      <th>0</th>\n",
       "      <td>Bytedance</td>\n",
       "      <td>2012</td>\n",
       "      <td>2017-04-07</td>\n",
       "      <td>5</td>\n",
       "    </tr>\n",
       "    <tr>\n",
       "      <th>1</th>\n",
       "      <td>SpaceX</td>\n",
       "      <td>2002</td>\n",
       "      <td>2012-12-01</td>\n",
       "      <td>10</td>\n",
       "    </tr>\n",
       "    <tr>\n",
       "      <th>2</th>\n",
       "      <td>SHEIN</td>\n",
       "      <td>2008</td>\n",
       "      <td>2018-07-03</td>\n",
       "      <td>10</td>\n",
       "    </tr>\n",
       "    <tr>\n",
       "      <th>3</th>\n",
       "      <td>Stripe</td>\n",
       "      <td>2010</td>\n",
       "      <td>2014-01-23</td>\n",
       "      <td>4</td>\n",
       "    </tr>\n",
       "    <tr>\n",
       "      <th>4</th>\n",
       "      <td>Klarna</td>\n",
       "      <td>2005</td>\n",
       "      <td>2011-12-12</td>\n",
       "      <td>6</td>\n",
       "    </tr>\n",
       "  </tbody>\n",
       "</table>\n",
       "</div>"
      ],
      "text/plain": [
       "     Company  Year Founded Date Joined  Years to Unicorn\n",
       "0  Bytedance          2012  2017-04-07                 5\n",
       "1     SpaceX          2002  2012-12-01                10\n",
       "2      SHEIN          2008  2018-07-03                10\n",
       "3     Stripe          2010  2014-01-23                 4\n",
       "4     Klarna          2005  2011-12-12                 6"
      ]
     },
     "execution_count": 26,
     "metadata": {},
     "output_type": "execute_result"
    }
   ],
   "source": [
    "df_base[['Company', 'Year Founded', 'Date Joined', 'Years to Unicorn']].head()"
   ]
  },
  {
   "cell_type": "code",
   "execution_count": 27,
   "id": "0562dff5",
   "metadata": {},
   "outputs": [
    {
     "name": "stdout",
     "output_type": "stream",
     "text": [
      "Media: 7.00 años\n",
      "Mediana: 6.00 años\n"
     ]
    }
   ],
   "source": [
    "# SACAMOS LA MEDIA Y LA MEDIANA PARA SABER EL PROMEDIO EN QUE UNA COMPAÑIA SE CONVIERTE EN UNICORNIO. LA MEDIANA LA USAMOS POR SI ACASO HAY VALORES EXTREMOS \n",
    "media = df_base['Years to Unicorn'].mean()\n",
    "mediana = df_base['Years to Unicorn'].median()\n",
    "\n",
    "print(f\"Media: {media:.2f} años\")\n",
    "print(f\"Mediana: {mediana:.2f} años\")"
   ]
  },
  {
   "cell_type": "code",
   "execution_count": 28,
   "id": "ea74f423",
   "metadata": {},
   "outputs": [
    {
     "name": "stdout",
     "output_type": "stream",
     "text": [
      "604 de 1074 startups (56.24%) llegaron al estatus unicornio en ≤ 6 años.\n"
     ]
    }
   ],
   "source": [
    "# HACEMOS UN FILTRO SUMANDO LAS EMPRESAS MENOR O IGUAL A 6 Y SACAMOS EL PORCENTAJE PARA REAFIRMAR LA HIPOTESIS\n",
    "cumplen_condicion = (df_base['Years to Unicorn'] <= 6).sum()\n",
    "total_empresas = df_base.shape[0]\n",
    "porcentaje = (cumplen_condicion / total_empresas) * 100\n",
    "\n",
    "print(f\"{cumplen_condicion} de {total_empresas} startups ({porcentaje:.2f}%) llegaron al estatus unicornio en ≤ 6 años.\")"
   ]
  },
  {
   "cell_type": "code",
   "execution_count": 29,
   "id": "2b41d3d3",
   "metadata": {},
   "outputs": [
    {
     "data": {
      "image/png": "[encoded data removed]",
      "text/plain": [
       "<Figure size 600x400 with 1 Axes>"
      ]
     },
     "metadata": {},
     "output_type": "display_data"
    }
   ],
   "source": [
    "# GRAFICAMOS PARA VER CUANTAS EMPRESAS CUMPLEN CON LA HIPOTESIS\n",
    "cumplen = cumplen_condicion\n",
    "no_cumplen = total_empresas - cumplen_condicion\n",
    "\n",
    "plt.figure(figsize=(6,4))\n",
    "plt.bar([\"≤ 6 años\", \"> 6 años\"], [cumplen, no_cumplen], color =[\"#8874DD\", \"#F040E1\"])\n",
    "plt.ylabel(\"Número de startups\")\n",
    "plt.title(\"Número de startups según años para ser unicornio\");"
   ]
  },
  {
   "cell_type": "code",
   "execution_count": 30,
   "id": "a84e9bf9",
   "metadata": {},
   "outputs": [
    {
     "data": {
      "image/png": "[encoded data removed]",
      "text/plain": [
       "<Figure size 640x480 with 1 Axes>"
      ]
     },
     "metadata": {},
     "output_type": "display_data"
    }
   ],
   "source": [
    "sns.boxplot(x = df_base['Years to Unicorn'], color=\"#03A9F4\")\n",
    "plt.axvline(6, color=\"red\", linestyle=\"--\", label=\"≤ 6 años\")\n",
    "plt.title(\"Distribución del tiempo para ser unicornio\")\n",
    "plt.xlabel(\"Años\")\n",
    "plt.legend()\n",
    "plt.show()"
   ]
  },
  {
   "cell_type": "code",
   "execution_count": 31,
   "id": "9f8492d2",
   "metadata": {},
   "outputs": [
    {
     "data": {
      "text/plain": [
       "np.int64(1919)"
      ]
     },
     "execution_count": 31,
     "metadata": {},
     "output_type": "execute_result"
    }
   ],
   "source": [
    "# OBSERVAMOS QUE HAY UN VALOR MUY EXTREMO DECIDIMOS QUE HACER CON EL PORQUE PUEDE ESTAR AFECTANDO LA MEDIA \n",
    "df_base['Year Founded'].min()"
   ]
  },
  {
   "cell_type": "code",
   "execution_count": 32,
   "id": "c3b52afb",
   "metadata": {},
   "outputs": [
    {
     "data": {
      "text/html": [
       "<div>\n",
       "<style scoped>\n",
       "    .dataframe tbody tr th:only-of-type {\n",
       "        vertical-align: middle;\n",
       "    }\n",
       "\n",
       "    .dataframe tbody tr th {\n",
       "        vertical-align: top;\n",
       "    }\n",
       "\n",
       "    .dataframe thead th {\n",
       "        text-align: right;\n",
       "    }\n",
       "</style>\n",
       "<table border=\"1\" class=\"dataframe\">\n",
       "  <thead>\n",
       "    <tr style=\"text-align: right;\">\n",
       "      <th></th>\n",
       "      <th>Company</th>\n",
       "      <th>Valuation</th>\n",
       "      <th>Date Joined</th>\n",
       "      <th>Industry</th>\n",
       "      <th>City</th>\n",
       "      <th>Country</th>\n",
       "      <th>Continent</th>\n",
       "      <th>Year Founded</th>\n",
       "      <th>Funding</th>\n",
       "      <th>Select Investors</th>\n",
       "      <th>Years to Unicorn</th>\n",
       "    </tr>\n",
       "  </thead>\n",
       "  <tbody>\n",
       "    <tr>\n",
       "      <th>189</th>\n",
       "      <td>Otto Bock HealthCare</td>\n",
       "      <td>$4B</td>\n",
       "      <td>2017-06-24</td>\n",
       "      <td>Health</td>\n",
       "      <td>Duderstadt</td>\n",
       "      <td>Germany</td>\n",
       "      <td>Europe</td>\n",
       "      <td>1919</td>\n",
       "      <td>$0M</td>\n",
       "      <td>EQT Partners</td>\n",
       "      <td>98</td>\n",
       "    </tr>\n",
       "  </tbody>\n",
       "</table>\n",
       "</div>"
      ],
      "text/plain": [
       "                  Company Valuation Date Joined Industry        City  Country  \\\n",
       "189  Otto Bock HealthCare       $4B  2017-06-24   Health  Duderstadt  Germany   \n",
       "\n",
       "    Continent  Year Founded Funding Select Investors  Years to Unicorn  \n",
       "189    Europe          1919     $0M     EQT Partners                98  "
      ]
     },
     "execution_count": 32,
     "metadata": {},
     "output_type": "execute_result"
    }
   ],
   "source": [
    "df_base[df_base['Year Founded'] == df_base['Year Founded'].min()]"
   ]
  },
  {
   "cell_type": "code",
   "execution_count": 33,
   "id": "ec8d33eb",
   "metadata": {},
   "outputs": [],
   "source": [
    "# SE EXCLUYE OTTO BOCK HEALTHCARE (98 años) POR SER UN OUTLIER EXTREMO, NO SIGUE EL PATRON TIPICO DE UNA STARTUP MODERNA\n",
    "df_filtrado = df_base[df_base['Years to Unicorn'] < 50]"
   ]
  },
  {
   "cell_type": "code",
   "execution_count": 34,
   "id": "8e8f9e8e",
   "metadata": {},
   "outputs": [
    {
     "data": {
      "image/png": "[encoded data removed]",
      "text/plain": [
       "<Figure size 640x480 with 1 Axes>"
      ]
     },
     "metadata": {},
     "output_type": "display_data"
    }
   ],
   "source": [
    "# VOLVEMOS A SACAR EL BOXPLOT CON EL FILTRO\n",
    "sns.boxplot(x = df_filtrado['Years to Unicorn'], color=\"#03A9F4\")\n",
    "plt.axvline(6, color=\"red\", linestyle=\"--\", label=\"≤ 6 años\")\n",
    "plt.title(\"Distribución del tiempo para ser unicornio\")\n",
    "plt.xlabel(\"Años\")\n",
    "plt.legend()\n",
    "plt.show()"
   ]
  },
  {
   "cell_type": "code",
   "execution_count": 35,
   "id": "23e307af",
   "metadata": {},
   "outputs": [
    {
     "name": "stdout",
     "output_type": "stream",
     "text": [
      "Media: 6.92 años\n",
      "Mediana: 6.00 años\n"
     ]
    }
   ],
   "source": [
    "# VOLVEMOS A SACAR LA METRICAS PARA VER COMO AFECTABA EL OUTLIER EXTREMO A NUESTRAS METRICAS\n",
    "media = df_filtrado['Years to Unicorn'].mean()\n",
    "mediana = df_filtrado['Years to Unicorn'].median()\n",
    "\n",
    "print(f\"Media: {media:.2f} años\")\n",
    "print(f\"Mediana: {mediana:.2f} años\")"
   ]
  },
  {
   "cell_type": "code",
   "execution_count": 36,
   "id": "2e64be38",
   "metadata": {},
   "outputs": [
    {
     "name": "stdout",
     "output_type": "stream",
     "text": [
      "604 de 1073 startups (56.29%) llegaron al estatus unicornio en ≤ 6 años.\n"
     ]
    }
   ],
   "source": [
    "cumplen_condicion = (df_filtrado['Years to Unicorn'] <= 6).sum()\n",
    "total_empresas = df_filtrado.shape[0]\n",
    "porcentaje = (cumplen_condicion / total_empresas) * 100\n",
    "\n",
    "print(f\"{cumplen_condicion} de {total_empresas} startups ({porcentaje:.2f}%) llegaron al estatus unicornio en ≤ 6 años.\")"
   ]
  },
  {
   "cell_type": "code",
   "execution_count": 37,
   "id": "8bec9f90",
   "metadata": {},
   "outputs": [
    {
     "data": {
      "image/png": "[encoded data removed]",
      "text/plain": [
       "<Figure size 600x400 with 1 Axes>"
      ]
     },
     "metadata": {},
     "output_type": "display_data"
    }
   ],
   "source": [
    "cumplen = cumplen_condicion\n",
    "no_cumplen = total_empresas - cumplen_condicion\n",
    "\n",
    "plt.figure(figsize=(6,4))\n",
    "plt.bar([\"≤ 6 años\", \"> 6 años\"], [cumplen, no_cumplen], color =[\"#8874DD\", \"#F040E1\"])\n",
    "plt.ylabel(\"Número de startups\")\n",
    "plt.title(\"Número de startups según años para ser unicornio\");"
   ]
  },
  {
   "cell_type": "code",
   "execution_count": 38,
   "id": "7aa12a74",
   "metadata": {},
   "outputs": [],
   "source": [
    "#AHORA QUEREMOS COMPROBAR EL IMPACTO QUE TIENEN ESTAS EMPRESAS EN EL PIB Y IMPORTAMOS LOS CSV CORRESPONDIENTES DE LAS 3 EMPRESAS CON MAS STARTUPS UNICORNIOS\n",
    "df_usa = pd.read_csv(r'C:\\Users\\Gilberto\\Desktop\\proyecto-unicornios\\data\\Estados Unidos_ Producto interior bruto (2023).csv')"
   ]
  },
  {
   "cell_type": "code",
   "execution_count": 39,
   "id": "bb52a57c",
   "metadata": {},
   "outputs": [
    {
     "data": {
      "text/html": [
       "<div>\n",
       "<style scoped>\n",
       "    .dataframe tbody tr th:only-of-type {\n",
       "        vertical-align: middle;\n",
       "    }\n",
       "\n",
       "    .dataframe tbody tr th {\n",
       "        vertical-align: top;\n",
       "    }\n",
       "\n",
       "    .dataframe thead th {\n",
       "        text-align: right;\n",
       "    }\n",
       "</style>\n",
       "<table border=\"1\" class=\"dataframe\">\n",
       "  <thead>\n",
       "    <tr style=\"text-align: right;\">\n",
       "      <th></th>\n",
       "      <th>Entity DCID</th>\n",
       "      <th>Entity properties isoCode</th>\n",
       "      <th>Entity properties name</th>\n",
       "      <th>Variable DCID</th>\n",
       "      <th>Variable observation date</th>\n",
       "      <th>Variable observation metadata importName</th>\n",
       "      <th>Variable observation metadata provenanceUrl</th>\n",
       "      <th>Variable observation metadata scalingFactor</th>\n",
       "      <th>Variable observation metadata unit</th>\n",
       "      <th>Variable observation metadata unitDisplayName</th>\n",
       "      <th>Variable observation value</th>\n",
       "      <th>Variable properties name</th>\n",
       "    </tr>\n",
       "  </thead>\n",
       "  <tbody>\n",
       "    <tr>\n",
       "      <th>0</th>\n",
       "      <td>country/USA</td>\n",
       "      <td>US</td>\n",
       "      <td>United States of America</td>\n",
       "      <td>Amount_EconomicActivity_GrossDomesticProductio...</td>\n",
       "      <td>1960</td>\n",
       "      <td>WorldDevelopmentIndicators</td>\n",
       "      <td>https://datacatalog.worldbank.org/dataset/worl...</td>\n",
       "      <td>NaN</td>\n",
       "      <td>USDollar</td>\n",
       "      <td>USD</td>\n",
       "      <td>5.419886e+11</td>\n",
       "      <td>Nominal GDP</td>\n",
       "    </tr>\n",
       "    <tr>\n",
       "      <th>1</th>\n",
       "      <td>country/USA</td>\n",
       "      <td>US</td>\n",
       "      <td>United States of America</td>\n",
       "      <td>Amount_EconomicActivity_GrossDomesticProductio...</td>\n",
       "      <td>1961</td>\n",
       "      <td>WorldDevelopmentIndicators</td>\n",
       "      <td>https://datacatalog.worldbank.org/dataset/worl...</td>\n",
       "      <td>NaN</td>\n",
       "      <td>USDollar</td>\n",
       "      <td>USD</td>\n",
       "      <td>5.619403e+11</td>\n",
       "      <td>Nominal GDP</td>\n",
       "    </tr>\n",
       "    <tr>\n",
       "      <th>2</th>\n",
       "      <td>country/USA</td>\n",
       "      <td>US</td>\n",
       "      <td>United States of America</td>\n",
       "      <td>Amount_EconomicActivity_GrossDomesticProductio...</td>\n",
       "      <td>1962</td>\n",
       "      <td>WorldDevelopmentIndicators</td>\n",
       "      <td>https://datacatalog.worldbank.org/dataset/worl...</td>\n",
       "      <td>NaN</td>\n",
       "      <td>USDollar</td>\n",
       "      <td>USD</td>\n",
       "      <td>6.036394e+11</td>\n",
       "      <td>Nominal GDP</td>\n",
       "    </tr>\n",
       "  </tbody>\n",
       "</table>\n",
       "</div>"
      ],
      "text/plain": [
       "   Entity DCID Entity properties isoCode    Entity properties name  \\\n",
       "0  country/USA                        US  United States of America   \n",
       "1  country/USA                        US  United States of America   \n",
       "2  country/USA                        US  United States of America   \n",
       "\n",
       "                                       Variable DCID  \\\n",
       "0  Amount_EconomicActivity_GrossDomesticProductio...   \n",
       "1  Amount_EconomicActivity_GrossDomesticProductio...   \n",
       "2  Amount_EconomicActivity_GrossDomesticProductio...   \n",
       "\n",
       "   Variable observation date Variable observation metadata importName  \\\n",
       "0                       1960               WorldDevelopmentIndicators   \n",
       "1                       1961               WorldDevelopmentIndicators   \n",
       "2                       1962               WorldDevelopmentIndicators   \n",
       "\n",
       "         Variable observation metadata provenanceUrl  \\\n",
       "0  https://datacatalog.worldbank.org/dataset/worl...   \n",
       "1  https://datacatalog.worldbank.org/dataset/worl...   \n",
       "2  https://datacatalog.worldbank.org/dataset/worl...   \n",
       "\n",
       "   Variable observation metadata scalingFactor  \\\n",
       "0                                          NaN   \n",
       "1                                          NaN   \n",
       "2                                          NaN   \n",
       "\n",
       "  Variable observation metadata unit  \\\n",
       "0                           USDollar   \n",
       "1                           USDollar   \n",
       "2                           USDollar   \n",
       "\n",
       "  Variable observation metadata unitDisplayName  Variable observation value  \\\n",
       "0                                           USD                5.419886e+11   \n",
       "1                                           USD                5.619403e+11   \n",
       "2                                           USD                6.036394e+11   \n",
       "\n",
       "  Variable properties name  \n",
       "0              Nominal GDP  \n",
       "1              Nominal GDP  \n",
       "2              Nominal GDP  "
      ]
     },
     "execution_count": 39,
     "metadata": {},
     "output_type": "execute_result"
    }
   ],
   "source": [
    "df_usa.head(3)"
   ]
  },
  {
   "cell_type": "code",
   "execution_count": 40,
   "id": "686a5627",
   "metadata": {},
   "outputs": [
    {
     "name": "stdout",
     "output_type": "stream",
     "text": [
      "<class 'pandas.core.frame.DataFrame'>\n",
      "RangeIndex: 64 entries, 0 to 63\n",
      "Data columns (total 12 columns):\n",
      " #   Column                                         Non-Null Count  Dtype  \n",
      "---  ------                                         --------------  -----  \n",
      " 0   Entity DCID                                    64 non-null     object \n",
      " 1   Entity properties isoCode                      64 non-null     object \n",
      " 2   Entity properties name                         64 non-null     object \n",
      " 3   Variable DCID                                  64 non-null     object \n",
      " 4   Variable observation date                      64 non-null     int64  \n",
      " 5   Variable observation metadata importName       64 non-null     object \n",
      " 6   Variable observation metadata provenanceUrl    64 non-null     object \n",
      " 7   Variable observation metadata scalingFactor    0 non-null      float64\n",
      " 8   Variable observation metadata unit             64 non-null     object \n",
      " 9   Variable observation metadata unitDisplayName  64 non-null     object \n",
      " 10  Variable observation value                     64 non-null     float64\n",
      " 11  Variable properties name                       64 non-null     object \n",
      "dtypes: float64(2), int64(1), object(9)\n",
      "memory usage: 6.1+ KB\n"
     ]
    }
   ],
   "source": [
    "df_usa.info()"
   ]
  },
  {
   "cell_type": "code",
   "execution_count": 41,
   "id": "cd6fd2e8",
   "metadata": {},
   "outputs": [],
   "source": [
    "df_usa_pib_2022 = df_usa[df_usa['Variable observation date'] == 2022]"
   ]
  },
  {
   "cell_type": "code",
   "execution_count": 42,
   "id": "bf3ea2f6",
   "metadata": {},
   "outputs": [
    {
     "data": {
      "text/html": [
       "<div>\n",
       "<style scoped>\n",
       "    .dataframe tbody tr th:only-of-type {\n",
       "        vertical-align: middle;\n",
       "    }\n",
       "\n",
       "    .dataframe tbody tr th {\n",
       "        vertical-align: top;\n",
       "    }\n",
       "\n",
       "    .dataframe thead th {\n",
       "        text-align: right;\n",
       "    }\n",
       "</style>\n",
       "<table border=\"1\" class=\"dataframe\">\n",
       "  <thead>\n",
       "    <tr style=\"text-align: right;\">\n",
       "      <th></th>\n",
       "      <th>Entity DCID</th>\n",
       "      <th>Entity properties isoCode</th>\n",
       "      <th>Entity properties name</th>\n",
       "      <th>Variable DCID</th>\n",
       "      <th>Variable observation date</th>\n",
       "      <th>Variable observation metadata importName</th>\n",
       "      <th>Variable observation metadata provenanceUrl</th>\n",
       "      <th>Variable observation metadata scalingFactor</th>\n",
       "      <th>Variable observation metadata unit</th>\n",
       "      <th>Variable observation metadata unitDisplayName</th>\n",
       "      <th>Variable observation value</th>\n",
       "      <th>Variable properties name</th>\n",
       "    </tr>\n",
       "  </thead>\n",
       "  <tbody>\n",
       "    <tr>\n",
       "      <th>62</th>\n",
       "      <td>country/USA</td>\n",
       "      <td>US</td>\n",
       "      <td>United States of America</td>\n",
       "      <td>Amount_EconomicActivity_GrossDomesticProductio...</td>\n",
       "      <td>2022</td>\n",
       "      <td>WorldDevelopmentIndicators</td>\n",
       "      <td>https://datacatalog.worldbank.org/dataset/worl...</td>\n",
       "      <td>NaN</td>\n",
       "      <td>USDollar</td>\n",
       "      <td>USD</td>\n",
       "      <td>2.600689e+13</td>\n",
       "      <td>Nominal GDP</td>\n",
       "    </tr>\n",
       "  </tbody>\n",
       "</table>\n",
       "</div>"
      ],
      "text/plain": [
       "    Entity DCID Entity properties isoCode    Entity properties name  \\\n",
       "62  country/USA                        US  United States of America   \n",
       "\n",
       "                                        Variable DCID  \\\n",
       "62  Amount_EconomicActivity_GrossDomesticProductio...   \n",
       "\n",
       "    Variable observation date Variable observation metadata importName  \\\n",
       "62                       2022               WorldDevelopmentIndicators   \n",
       "\n",
       "          Variable observation metadata provenanceUrl  \\\n",
       "62  https://datacatalog.worldbank.org/dataset/worl...   \n",
       "\n",
       "    Variable observation metadata scalingFactor  \\\n",
       "62                                          NaN   \n",
       "\n",
       "   Variable observation metadata unit  \\\n",
       "62                           USDollar   \n",
       "\n",
       "   Variable observation metadata unitDisplayName  Variable observation value  \\\n",
       "62                                           USD                2.600689e+13   \n",
       "\n",
       "   Variable properties name  \n",
       "62              Nominal GDP  "
      ]
     },
     "execution_count": 42,
     "metadata": {},
     "output_type": "execute_result"
    }
   ],
   "source": [
    "df_usa_pib_2022"
   ]
  },
  {
   "cell_type": "code",
   "execution_count": 43,
   "id": "c0e6a9f8",
   "metadata": {},
   "outputs": [],
   "source": [
    "# SOBREESCRIBIMOS NUESTRA VARIABLE PARA QUEDARNOS SOLO CON LAS COLUMNAS QUE NOS INTERESAN Y HACEMOS LO MISMO CON LAS SIGUIENTES 2 EMPRESAS\n",
    "df_usa_pib_2022 = df_usa_pib_2022[['Entity properties name', 'Variable observation value']]"
   ]
  },
  {
   "cell_type": "code",
   "execution_count": 44,
   "id": "6a1ec641",
   "metadata": {},
   "outputs": [
    {
     "data": {
      "text/html": [
       "<div>\n",
       "<style scoped>\n",
       "    .dataframe tbody tr th:only-of-type {\n",
       "        vertical-align: middle;\n",
       "    }\n",
       "\n",
       "    .dataframe tbody tr th {\n",
       "        vertical-align: top;\n",
       "    }\n",
       "\n",
       "    .dataframe thead th {\n",
       "        text-align: right;\n",
       "    }\n",
       "</style>\n",
       "<table border=\"1\" class=\"dataframe\">\n",
       "  <thead>\n",
       "    <tr style=\"text-align: right;\">\n",
       "      <th></th>\n",
       "      <th>Entity properties name</th>\n",
       "      <th>Variable observation value</th>\n",
       "    </tr>\n",
       "  </thead>\n",
       "  <tbody>\n",
       "    <tr>\n",
       "      <th>62</th>\n",
       "      <td>United States of America</td>\n",
       "      <td>2.600689e+13</td>\n",
       "    </tr>\n",
       "  </tbody>\n",
       "</table>\n",
       "</div>"
      ],
      "text/plain": [
       "      Entity properties name  Variable observation value\n",
       "62  United States of America                2.600689e+13"
      ]
     },
     "execution_count": 44,
     "metadata": {},
     "output_type": "execute_result"
    }
   ],
   "source": [
    "df_usa_pib_2022"
   ]
  },
  {
   "cell_type": "code",
   "execution_count": 45,
   "id": "c38f3322",
   "metadata": {},
   "outputs": [],
   "source": [
    "df_india = pd.read_csv(r'C:\\Users\\Gilberto\\Desktop\\proyecto-unicornios\\data\\India_ Producto interior bruto (2023).csv')"
   ]
  },
  {
   "cell_type": "code",
   "execution_count": 46,
   "id": "f9a02ca0",
   "metadata": {},
   "outputs": [
    {
     "data": {
      "text/html": [
       "<div>\n",
       "<style scoped>\n",
       "    .dataframe tbody tr th:only-of-type {\n",
       "        vertical-align: middle;\n",
       "    }\n",
       "\n",
       "    .dataframe tbody tr th {\n",
       "        vertical-align: top;\n",
       "    }\n",
       "\n",
       "    .dataframe thead th {\n",
       "        text-align: right;\n",
       "    }\n",
       "</style>\n",
       "<table border=\"1\" class=\"dataframe\">\n",
       "  <thead>\n",
       "    <tr style=\"text-align: right;\">\n",
       "      <th></th>\n",
       "      <th>Entity DCID</th>\n",
       "      <th>Entity properties isoCode</th>\n",
       "      <th>Entity properties name</th>\n",
       "      <th>Variable DCID</th>\n",
       "      <th>Variable observation date</th>\n",
       "      <th>Variable observation metadata importName</th>\n",
       "      <th>Variable observation metadata provenanceUrl</th>\n",
       "      <th>Variable observation metadata scalingFactor</th>\n",
       "      <th>Variable observation metadata unit</th>\n",
       "      <th>Variable observation metadata unitDisplayName</th>\n",
       "      <th>Variable observation value</th>\n",
       "      <th>Variable properties name</th>\n",
       "    </tr>\n",
       "  </thead>\n",
       "  <tbody>\n",
       "    <tr>\n",
       "      <th>61</th>\n",
       "      <td>country/IND</td>\n",
       "      <td>IN</td>\n",
       "      <td>India</td>\n",
       "      <td>Amount_EconomicActivity_GrossDomesticProductio...</td>\n",
       "      <td>2021</td>\n",
       "      <td>WorldDevelopmentIndicators</td>\n",
       "      <td>https://datacatalog.worldbank.org/dataset/worl...</td>\n",
       "      <td>NaN</td>\n",
       "      <td>USDollar</td>\n",
       "      <td>USD</td>\n",
       "      <td>3.167271e+12</td>\n",
       "      <td>Nominal GDP</td>\n",
       "    </tr>\n",
       "    <tr>\n",
       "      <th>62</th>\n",
       "      <td>country/IND</td>\n",
       "      <td>IN</td>\n",
       "      <td>India</td>\n",
       "      <td>Amount_EconomicActivity_GrossDomesticProductio...</td>\n",
       "      <td>2022</td>\n",
       "      <td>WorldDevelopmentIndicators</td>\n",
       "      <td>https://datacatalog.worldbank.org/dataset/worl...</td>\n",
       "      <td>NaN</td>\n",
       "      <td>USDollar</td>\n",
       "      <td>USD</td>\n",
       "      <td>3.353470e+12</td>\n",
       "      <td>Nominal GDP</td>\n",
       "    </tr>\n",
       "    <tr>\n",
       "      <th>63</th>\n",
       "      <td>country/IND</td>\n",
       "      <td>IN</td>\n",
       "      <td>India</td>\n",
       "      <td>Amount_EconomicActivity_GrossDomesticProductio...</td>\n",
       "      <td>2023</td>\n",
       "      <td>WorldDevelopmentIndicators</td>\n",
       "      <td>https://datacatalog.worldbank.org/dataset/worl...</td>\n",
       "      <td>NaN</td>\n",
       "      <td>USDollar</td>\n",
       "      <td>USD</td>\n",
       "      <td>3.567552e+12</td>\n",
       "      <td>Nominal GDP</td>\n",
       "    </tr>\n",
       "  </tbody>\n",
       "</table>\n",
       "</div>"
      ],
      "text/plain": [
       "    Entity DCID Entity properties isoCode Entity properties name  \\\n",
       "61  country/IND                        IN                  India   \n",
       "62  country/IND                        IN                  India   \n",
       "63  country/IND                        IN                  India   \n",
       "\n",
       "                                        Variable DCID  \\\n",
       "61  Amount_EconomicActivity_GrossDomesticProductio...   \n",
       "62  Amount_EconomicActivity_GrossDomesticProductio...   \n",
       "63  Amount_EconomicActivity_GrossDomesticProductio...   \n",
       "\n",
       "    Variable observation date Variable observation metadata importName  \\\n",
       "61                       2021               WorldDevelopmentIndicators   \n",
       "62                       2022               WorldDevelopmentIndicators   \n",
       "63                       2023               WorldDevelopmentIndicators   \n",
       "\n",
       "          Variable observation metadata provenanceUrl  \\\n",
       "61  https://datacatalog.worldbank.org/dataset/worl...   \n",
       "62  https://datacatalog.worldbank.org/dataset/worl...   \n",
       "63  https://datacatalog.worldbank.org/dataset/worl...   \n",
       "\n",
       "    Variable observation metadata scalingFactor  \\\n",
       "61                                          NaN   \n",
       "62                                          NaN   \n",
       "63                                          NaN   \n",
       "\n",
       "   Variable observation metadata unit  \\\n",
       "61                           USDollar   \n",
       "62                           USDollar   \n",
       "63                           USDollar   \n",
       "\n",
       "   Variable observation metadata unitDisplayName  Variable observation value  \\\n",
       "61                                           USD                3.167271e+12   \n",
       "62                                           USD                3.353470e+12   \n",
       "63                                           USD                3.567552e+12   \n",
       "\n",
       "   Variable properties name  \n",
       "61              Nominal GDP  \n",
       "62              Nominal GDP  \n",
       "63              Nominal GDP  "
      ]
     },
     "execution_count": 46,
     "metadata": {},
     "output_type": "execute_result"
    }
   ],
   "source": [
    "df_india.tail(3)"
   ]
  },
  {
   "cell_type": "code",
   "execution_count": 47,
   "id": "7fe1abcd",
   "metadata": {},
   "outputs": [],
   "source": [
    "df_india_pib_2022 = df_india[df_india['Variable observation date'] == 2022]"
   ]
  },
  {
   "cell_type": "code",
   "execution_count": 48,
   "id": "aaaae55f",
   "metadata": {},
   "outputs": [
    {
     "data": {
      "text/html": [
       "<div>\n",
       "<style scoped>\n",
       "    .dataframe tbody tr th:only-of-type {\n",
       "        vertical-align: middle;\n",
       "    }\n",
       "\n",
       "    .dataframe tbody tr th {\n",
       "        vertical-align: top;\n",
       "    }\n",
       "\n",
       "    .dataframe thead th {\n",
       "        text-align: right;\n",
       "    }\n",
       "</style>\n",
       "<table border=\"1\" class=\"dataframe\">\n",
       "  <thead>\n",
       "    <tr style=\"text-align: right;\">\n",
       "      <th></th>\n",
       "      <th>Entity DCID</th>\n",
       "      <th>Entity properties isoCode</th>\n",
       "      <th>Entity properties name</th>\n",
       "      <th>Variable DCID</th>\n",
       "      <th>Variable observation date</th>\n",
       "      <th>Variable observation metadata importName</th>\n",
       "      <th>Variable observation metadata provenanceUrl</th>\n",
       "      <th>Variable observation metadata scalingFactor</th>\n",
       "      <th>Variable observation metadata unit</th>\n",
       "      <th>Variable observation metadata unitDisplayName</th>\n",
       "      <th>Variable observation value</th>\n",
       "      <th>Variable properties name</th>\n",
       "    </tr>\n",
       "  </thead>\n",
       "  <tbody>\n",
       "    <tr>\n",
       "      <th>62</th>\n",
       "      <td>country/IND</td>\n",
       "      <td>IN</td>\n",
       "      <td>India</td>\n",
       "      <td>Amount_EconomicActivity_GrossDomesticProductio...</td>\n",
       "      <td>2022</td>\n",
       "      <td>WorldDevelopmentIndicators</td>\n",
       "      <td>https://datacatalog.worldbank.org/dataset/worl...</td>\n",
       "      <td>NaN</td>\n",
       "      <td>USDollar</td>\n",
       "      <td>USD</td>\n",
       "      <td>3.353470e+12</td>\n",
       "      <td>Nominal GDP</td>\n",
       "    </tr>\n",
       "  </tbody>\n",
       "</table>\n",
       "</div>"
      ],
      "text/plain": [
       "    Entity DCID Entity properties isoCode Entity properties name  \\\n",
       "62  country/IND                        IN                  India   \n",
       "\n",
       "                                        Variable DCID  \\\n",
       "62  Amount_EconomicActivity_GrossDomesticProductio...   \n",
       "\n",
       "    Variable observation date Variable observation metadata importName  \\\n",
       "62                       2022               WorldDevelopmentIndicators   \n",
       "\n",
       "          Variable observation metadata provenanceUrl  \\\n",
       "62  https://datacatalog.worldbank.org/dataset/worl...   \n",
       "\n",
       "    Variable observation metadata scalingFactor  \\\n",
       "62                                          NaN   \n",
       "\n",
       "   Variable observation metadata unit  \\\n",
       "62                           USDollar   \n",
       "\n",
       "   Variable observation metadata unitDisplayName  Variable observation value  \\\n",
       "62                                           USD                3.353470e+12   \n",
       "\n",
       "   Variable properties name  \n",
       "62              Nominal GDP  "
      ]
     },
     "execution_count": 48,
     "metadata": {},
     "output_type": "execute_result"
    }
   ],
   "source": [
    "df_india_pib_2022"
   ]
  },
  {
   "cell_type": "code",
   "execution_count": 49,
   "id": "f98c6475",
   "metadata": {},
   "outputs": [],
   "source": [
    "df_india_pib_2022 = df_india_pib_2022[['Entity properties name', 'Variable observation value']]"
   ]
  },
  {
   "cell_type": "code",
   "execution_count": 50,
   "id": "49e25d13",
   "metadata": {},
   "outputs": [
    {
     "data": {
      "text/html": [
       "<div>\n",
       "<style scoped>\n",
       "    .dataframe tbody tr th:only-of-type {\n",
       "        vertical-align: middle;\n",
       "    }\n",
       "\n",
       "    .dataframe tbody tr th {\n",
       "        vertical-align: top;\n",
       "    }\n",
       "\n",
       "    .dataframe thead th {\n",
       "        text-align: right;\n",
       "    }\n",
       "</style>\n",
       "<table border=\"1\" class=\"dataframe\">\n",
       "  <thead>\n",
       "    <tr style=\"text-align: right;\">\n",
       "      <th></th>\n",
       "      <th>Entity properties name</th>\n",
       "      <th>Variable observation value</th>\n",
       "    </tr>\n",
       "  </thead>\n",
       "  <tbody>\n",
       "    <tr>\n",
       "      <th>62</th>\n",
       "      <td>India</td>\n",
       "      <td>3.353470e+12</td>\n",
       "    </tr>\n",
       "  </tbody>\n",
       "</table>\n",
       "</div>"
      ],
      "text/plain": [
       "   Entity properties name  Variable observation value\n",
       "62                  India                3.353470e+12"
      ]
     },
     "execution_count": 50,
     "metadata": {},
     "output_type": "execute_result"
    }
   ],
   "source": [
    "df_india_pib_2022"
   ]
  },
  {
   "cell_type": "code",
   "execution_count": 51,
   "id": "2767516b",
   "metadata": {},
   "outputs": [],
   "source": [
    "df_china = pd.read_csv(r'C:\\Users\\Gilberto\\Desktop\\proyecto-unicornios\\data\\República Popular China_ Producto interior bruto (2023).csv')"
   ]
  },
  {
   "cell_type": "code",
   "execution_count": 52,
   "id": "270f4f64",
   "metadata": {},
   "outputs": [
    {
     "data": {
      "text/html": [
       "<div>\n",
       "<style scoped>\n",
       "    .dataframe tbody tr th:only-of-type {\n",
       "        vertical-align: middle;\n",
       "    }\n",
       "\n",
       "    .dataframe tbody tr th {\n",
       "        vertical-align: top;\n",
       "    }\n",
       "\n",
       "    .dataframe thead th {\n",
       "        text-align: right;\n",
       "    }\n",
       "</style>\n",
       "<table border=\"1\" class=\"dataframe\">\n",
       "  <thead>\n",
       "    <tr style=\"text-align: right;\">\n",
       "      <th></th>\n",
       "      <th>Entity DCID</th>\n",
       "      <th>Entity properties isoCode</th>\n",
       "      <th>Entity properties name</th>\n",
       "      <th>Variable DCID</th>\n",
       "      <th>Variable observation date</th>\n",
       "      <th>Variable observation metadata importName</th>\n",
       "      <th>Variable observation metadata provenanceUrl</th>\n",
       "      <th>Variable observation metadata scalingFactor</th>\n",
       "      <th>Variable observation metadata unit</th>\n",
       "      <th>Variable observation metadata unitDisplayName</th>\n",
       "      <th>Variable observation value</th>\n",
       "      <th>Variable properties name</th>\n",
       "    </tr>\n",
       "  </thead>\n",
       "  <tbody>\n",
       "    <tr>\n",
       "      <th>61</th>\n",
       "      <td>country/CHN</td>\n",
       "      <td>CN</td>\n",
       "      <td>China</td>\n",
       "      <td>Amount_EconomicActivity_GrossDomesticProductio...</td>\n",
       "      <td>2021</td>\n",
       "      <td>WorldDevelopmentIndicators</td>\n",
       "      <td>https://datacatalog.worldbank.org/dataset/worl...</td>\n",
       "      <td>NaN</td>\n",
       "      <td>USDollar</td>\n",
       "      <td>USD</td>\n",
       "      <td>1.782046e+13</td>\n",
       "      <td>Nominal GDP</td>\n",
       "    </tr>\n",
       "    <tr>\n",
       "      <th>62</th>\n",
       "      <td>country/CHN</td>\n",
       "      <td>CN</td>\n",
       "      <td>China</td>\n",
       "      <td>Amount_EconomicActivity_GrossDomesticProductio...</td>\n",
       "      <td>2022</td>\n",
       "      <td>WorldDevelopmentIndicators</td>\n",
       "      <td>https://datacatalog.worldbank.org/dataset/worl...</td>\n",
       "      <td>NaN</td>\n",
       "      <td>USDollar</td>\n",
       "      <td>USD</td>\n",
       "      <td>1.788178e+13</td>\n",
       "      <td>Nominal GDP</td>\n",
       "    </tr>\n",
       "    <tr>\n",
       "      <th>63</th>\n",
       "      <td>country/CHN</td>\n",
       "      <td>CN</td>\n",
       "      <td>China</td>\n",
       "      <td>Amount_EconomicActivity_GrossDomesticProductio...</td>\n",
       "      <td>2023</td>\n",
       "      <td>WorldDevelopmentIndicators</td>\n",
       "      <td>https://datacatalog.worldbank.org/dataset/worl...</td>\n",
       "      <td>NaN</td>\n",
       "      <td>USDollar</td>\n",
       "      <td>USD</td>\n",
       "      <td>1.779478e+13</td>\n",
       "      <td>Nominal GDP</td>\n",
       "    </tr>\n",
       "  </tbody>\n",
       "</table>\n",
       "</div>"
      ],
      "text/plain": [
       "    Entity DCID Entity properties isoCode Entity properties name  \\\n",
       "61  country/CHN                        CN                  China   \n",
       "62  country/CHN                        CN                  China   \n",
       "63  country/CHN                        CN                  China   \n",
       "\n",
       "                                        Variable DCID  \\\n",
       "61  Amount_EconomicActivity_GrossDomesticProductio...   \n",
       "62  Amount_EconomicActivity_GrossDomesticProductio...   \n",
       "63  Amount_EconomicActivity_GrossDomesticProductio...   \n",
       "\n",
       "    Variable observation date Variable observation metadata importName  \\\n",
       "61                       2021               WorldDevelopmentIndicators   \n",
       "62                       2022               WorldDevelopmentIndicators   \n",
       "63                       2023               WorldDevelopmentIndicators   \n",
       "\n",
       "          Variable observation metadata provenanceUrl  \\\n",
       "61  https://datacatalog.worldbank.org/dataset/worl...   \n",
       "62  https://datacatalog.worldbank.org/dataset/worl...   \n",
       "63  https://datacatalog.worldbank.org/dataset/worl...   \n",
       "\n",
       "    Variable observation metadata scalingFactor  \\\n",
       "61                                          NaN   \n",
       "62                                          NaN   \n",
       "63                                          NaN   \n",
       "\n",
       "   Variable observation metadata unit  \\\n",
       "61                           USDollar   \n",
       "62                           USDollar   \n",
       "63                           USDollar   \n",
       "\n",
       "   Variable observation metadata unitDisplayName  Variable observation value  \\\n",
       "61                                           USD                1.782046e+13   \n",
       "62                                           USD                1.788178e+13   \n",
       "63                                           USD                1.779478e+13   \n",
       "\n",
       "   Variable properties name  \n",
       "61              Nominal GDP  \n",
       "62              Nominal GDP  \n",
       "63              Nominal GDP  "
      ]
     },
     "execution_count": 52,
     "metadata": {},
     "output_type": "execute_result"
    }
   ],
   "source": [
    "df_china.tail(3)"
   ]
  },
  {
   "cell_type": "code",
   "execution_count": 53,
   "id": "80c2bc3e",
   "metadata": {},
   "outputs": [],
   "source": [
    "df_china_pib_2022 = df_china[df_china['Variable observation date'] == 2022]"
   ]
  },
  {
   "cell_type": "code",
   "execution_count": 54,
   "id": "3ac4c67f",
   "metadata": {},
   "outputs": [
    {
     "data": {
      "text/html": [
       "<div>\n",
       "<style scoped>\n",
       "    .dataframe tbody tr th:only-of-type {\n",
       "        vertical-align: middle;\n",
       "    }\n",
       "\n",
       "    .dataframe tbody tr th {\n",
       "        vertical-align: top;\n",
       "    }\n",
       "\n",
       "    .dataframe thead th {\n",
       "        text-align: right;\n",
       "    }\n",
       "</style>\n",
       "<table border=\"1\" class=\"dataframe\">\n",
       "  <thead>\n",
       "    <tr style=\"text-align: right;\">\n",
       "      <th></th>\n",
       "      <th>Entity DCID</th>\n",
       "      <th>Entity properties isoCode</th>\n",
       "      <th>Entity properties name</th>\n",
       "      <th>Variable DCID</th>\n",
       "      <th>Variable observation date</th>\n",
       "      <th>Variable observation metadata importName</th>\n",
       "      <th>Variable observation metadata provenanceUrl</th>\n",
       "      <th>Variable observation metadata scalingFactor</th>\n",
       "      <th>Variable observation metadata unit</th>\n",
       "      <th>Variable observation metadata unitDisplayName</th>\n",
       "      <th>Variable observation value</th>\n",
       "      <th>Variable properties name</th>\n",
       "    </tr>\n",
       "  </thead>\n",
       "  <tbody>\n",
       "    <tr>\n",
       "      <th>62</th>\n",
       "      <td>country/CHN</td>\n",
       "      <td>CN</td>\n",
       "      <td>China</td>\n",
       "      <td>Amount_EconomicActivity_GrossDomesticProductio...</td>\n",
       "      <td>2022</td>\n",
       "      <td>WorldDevelopmentIndicators</td>\n",
       "      <td>https://datacatalog.worldbank.org/dataset/worl...</td>\n",
       "      <td>NaN</td>\n",
       "      <td>USDollar</td>\n",
       "      <td>USD</td>\n",
       "      <td>1.788178e+13</td>\n",
       "      <td>Nominal GDP</td>\n",
       "    </tr>\n",
       "  </tbody>\n",
       "</table>\n",
       "</div>"
      ],
      "text/plain": [
       "    Entity DCID Entity properties isoCode Entity properties name  \\\n",
       "62  country/CHN                        CN                  China   \n",
       "\n",
       "                                        Variable DCID  \\\n",
       "62  Amount_EconomicActivity_GrossDomesticProductio...   \n",
       "\n",
       "    Variable observation date Variable observation metadata importName  \\\n",
       "62                       2022               WorldDevelopmentIndicators   \n",
       "\n",
       "          Variable observation metadata provenanceUrl  \\\n",
       "62  https://datacatalog.worldbank.org/dataset/worl...   \n",
       "\n",
       "    Variable observation metadata scalingFactor  \\\n",
       "62                                          NaN   \n",
       "\n",
       "   Variable observation metadata unit  \\\n",
       "62                           USDollar   \n",
       "\n",
       "   Variable observation metadata unitDisplayName  Variable observation value  \\\n",
       "62                                           USD                1.788178e+13   \n",
       "\n",
       "   Variable properties name  \n",
       "62              Nominal GDP  "
      ]
     },
     "execution_count": 54,
     "metadata": {},
     "output_type": "execute_result"
    }
   ],
   "source": [
    "df_china_pib_2022"
   ]
  },
  {
   "cell_type": "code",
   "execution_count": 55,
   "id": "41cfa39e",
   "metadata": {},
   "outputs": [],
   "source": [
    "df_china_pib_2022 = df_china_pib_2022[['Entity properties name', 'Variable observation value']]"
   ]
  },
  {
   "cell_type": "code",
   "execution_count": 56,
   "id": "223d03e8",
   "metadata": {},
   "outputs": [
    {
     "data": {
      "text/html": [
       "<div>\n",
       "<style scoped>\n",
       "    .dataframe tbody tr th:only-of-type {\n",
       "        vertical-align: middle;\n",
       "    }\n",
       "\n",
       "    .dataframe tbody tr th {\n",
       "        vertical-align: top;\n",
       "    }\n",
       "\n",
       "    .dataframe thead th {\n",
       "        text-align: right;\n",
       "    }\n",
       "</style>\n",
       "<table border=\"1\" class=\"dataframe\">\n",
       "  <thead>\n",
       "    <tr style=\"text-align: right;\">\n",
       "      <th></th>\n",
       "      <th>Entity properties name</th>\n",
       "      <th>Variable observation value</th>\n",
       "    </tr>\n",
       "  </thead>\n",
       "  <tbody>\n",
       "    <tr>\n",
       "      <th>62</th>\n",
       "      <td>China</td>\n",
       "      <td>1.788178e+13</td>\n",
       "    </tr>\n",
       "  </tbody>\n",
       "</table>\n",
       "</div>"
      ],
      "text/plain": [
       "   Entity properties name  Variable observation value\n",
       "62                  China                1.788178e+13"
      ]
     },
     "execution_count": 56,
     "metadata": {},
     "output_type": "execute_result"
    }
   ],
   "source": [
    "df_china_pib_2022"
   ]
  },
  {
   "cell_type": "code",
   "execution_count": 57,
   "id": "28a5dfa2",
   "metadata": {},
   "outputs": [
    {
     "name": "stderr",
     "output_type": "stream",
     "text": [
      "C:\\Users\\Gilberto\\AppData\\Local\\Temp\\ipykernel_18220\\927520900.py:2: SettingWithCopyWarning: \n",
      "A value is trying to be set on a copy of a slice from a DataFrame.\n",
      "Try using .loc[row_indexer,col_indexer] = value instead\n",
      "\n",
      "See the caveats in the documentation: https://pandas.pydata.org/pandas-docs/stable/user_guide/indexing.html#returning-a-view-versus-a-copy\n",
      "  df_usa_pib_2022['Year'] = 2022\n",
      "C:\\Users\\Gilberto\\AppData\\Local\\Temp\\ipykernel_18220\\927520900.py:3: SettingWithCopyWarning: \n",
      "A value is trying to be set on a copy of a slice from a DataFrame.\n",
      "Try using .loc[row_indexer,col_indexer] = value instead\n",
      "\n",
      "See the caveats in the documentation: https://pandas.pydata.org/pandas-docs/stable/user_guide/indexing.html#returning-a-view-versus-a-copy\n",
      "  df_china_pib_2022['Year'] = 2022\n",
      "C:\\Users\\Gilberto\\AppData\\Local\\Temp\\ipykernel_18220\\927520900.py:4: SettingWithCopyWarning: \n",
      "A value is trying to be set on a copy of a slice from a DataFrame.\n",
      "Try using .loc[row_indexer,col_indexer] = value instead\n",
      "\n",
      "See the caveats in the documentation: https://pandas.pydata.org/pandas-docs/stable/user_guide/indexing.html#returning-a-view-versus-a-copy\n",
      "  df_india_pib_2022['Year'] = 2022\n"
     ]
    }
   ],
   "source": [
    "#EN EL PROCESO BORRAMOS LA COLUMNA AÑOS, LA VOLVEMOS A CREAR POR SI LA NECESITAMOS MAS ADELANTE \n",
    "df_usa_pib_2022['Year'] = 2022\n",
    "df_china_pib_2022['Year'] = 2022\n",
    "df_india_pib_2022['Year'] = 2022"
   ]
  },
  {
   "cell_type": "code",
   "execution_count": 58,
   "id": "5cb5e2de",
   "metadata": {},
   "outputs": [
    {
     "data": {
      "text/html": [
       "<div>\n",
       "<style scoped>\n",
       "    .dataframe tbody tr th:only-of-type {\n",
       "        vertical-align: middle;\n",
       "    }\n",
       "\n",
       "    .dataframe tbody tr th {\n",
       "        vertical-align: top;\n",
       "    }\n",
       "\n",
       "    .dataframe thead th {\n",
       "        text-align: right;\n",
       "    }\n",
       "</style>\n",
       "<table border=\"1\" class=\"dataframe\">\n",
       "  <thead>\n",
       "    <tr style=\"text-align: right;\">\n",
       "      <th></th>\n",
       "      <th>Entity properties name</th>\n",
       "      <th>Variable observation value</th>\n",
       "      <th>Year</th>\n",
       "    </tr>\n",
       "  </thead>\n",
       "  <tbody>\n",
       "    <tr>\n",
       "      <th>62</th>\n",
       "      <td>United States of America</td>\n",
       "      <td>2.600689e+13</td>\n",
       "      <td>2022</td>\n",
       "    </tr>\n",
       "  </tbody>\n",
       "</table>\n",
       "</div>"
      ],
      "text/plain": [
       "      Entity properties name  Variable observation value  Year\n",
       "62  United States of America                2.600689e+13  2022"
      ]
     },
     "execution_count": 58,
     "metadata": {},
     "output_type": "execute_result"
    }
   ],
   "source": [
    "df_usa_pib_2022"
   ]
  },
  {
   "cell_type": "code",
   "execution_count": 59,
   "id": "d4618bde",
   "metadata": {},
   "outputs": [],
   "source": [
    "df_pib_concat = pd.concat([df_usa_pib_2022, df_china_pib_2022, df_india_pib_2022], ignore_index = True)"
   ]
  },
  {
   "cell_type": "code",
   "execution_count": 60,
   "id": "2791af72",
   "metadata": {},
   "outputs": [
    {
     "data": {
      "text/html": [
       "<div>\n",
       "<style scoped>\n",
       "    .dataframe tbody tr th:only-of-type {\n",
       "        vertical-align: middle;\n",
       "    }\n",
       "\n",
       "    .dataframe tbody tr th {\n",
       "        vertical-align: top;\n",
       "    }\n",
       "\n",
       "    .dataframe thead th {\n",
       "        text-align: right;\n",
       "    }\n",
       "</style>\n",
       "<table border=\"1\" class=\"dataframe\">\n",
       "  <thead>\n",
       "    <tr style=\"text-align: right;\">\n",
       "      <th></th>\n",
       "      <th>Entity properties name</th>\n",
       "      <th>Variable observation value</th>\n",
       "      <th>Year</th>\n",
       "    </tr>\n",
       "  </thead>\n",
       "  <tbody>\n",
       "    <tr>\n",
       "      <th>0</th>\n",
       "      <td>United States of America</td>\n",
       "      <td>2.600689e+13</td>\n",
       "      <td>2022</td>\n",
       "    </tr>\n",
       "    <tr>\n",
       "      <th>1</th>\n",
       "      <td>China</td>\n",
       "      <td>1.788178e+13</td>\n",
       "      <td>2022</td>\n",
       "    </tr>\n",
       "    <tr>\n",
       "      <th>2</th>\n",
       "      <td>India</td>\n",
       "      <td>3.353470e+12</td>\n",
       "      <td>2022</td>\n",
       "    </tr>\n",
       "  </tbody>\n",
       "</table>\n",
       "</div>"
      ],
      "text/plain": [
       "     Entity properties name  Variable observation value  Year\n",
       "0  United States of America                2.600689e+13  2022\n",
       "1                     China                1.788178e+13  2022\n",
       "2                     India                3.353470e+12  2022"
      ]
     },
     "execution_count": 60,
     "metadata": {},
     "output_type": "execute_result"
    }
   ],
   "source": [
    "#QUEREMOS JUNTAR LOS DATOS FILTRADOS PARA COMPROBAR NUESTRA HIPOTESIS. QUITAMOS TODOS LOS AÑOS ANTERIORES Y POSTERIORES Y NOS QUEDAMOS SOLO CON LAS DEL 2022\n",
    "df_pib_concat"
   ]
  },
  {
   "cell_type": "code",
   "execution_count": 61,
   "id": "ebebf194",
   "metadata": {},
   "outputs": [],
   "source": [
    "# QUEREMOS RENOMBRAR ALGUNAS COLUMNAS\n",
    "df_pib_concat = df_pib_concat.rename(columns={\n",
    "    'Entity properties name': 'Country',\n",
    "    'Variable observation value': 'PIB'\n",
    "})"
   ]
  },
  {
   "cell_type": "code",
   "execution_count": 62,
   "id": "23f165fe",
   "metadata": {},
   "outputs": [
    {
     "data": {
      "text/html": [
       "<div>\n",
       "<style scoped>\n",
       "    .dataframe tbody tr th:only-of-type {\n",
       "        vertical-align: middle;\n",
       "    }\n",
       "\n",
       "    .dataframe tbody tr th {\n",
       "        vertical-align: top;\n",
       "    }\n",
       "\n",
       "    .dataframe thead th {\n",
       "        text-align: right;\n",
       "    }\n",
       "</style>\n",
       "<table border=\"1\" class=\"dataframe\">\n",
       "  <thead>\n",
       "    <tr style=\"text-align: right;\">\n",
       "      <th></th>\n",
       "      <th>Country</th>\n",
       "      <th>PIB</th>\n",
       "      <th>Year</th>\n",
       "    </tr>\n",
       "  </thead>\n",
       "  <tbody>\n",
       "    <tr>\n",
       "      <th>0</th>\n",
       "      <td>United States of America</td>\n",
       "      <td>2.600689e+13</td>\n",
       "      <td>2022</td>\n",
       "    </tr>\n",
       "    <tr>\n",
       "      <th>1</th>\n",
       "      <td>China</td>\n",
       "      <td>1.788178e+13</td>\n",
       "      <td>2022</td>\n",
       "    </tr>\n",
       "    <tr>\n",
       "      <th>2</th>\n",
       "      <td>India</td>\n",
       "      <td>3.353470e+12</td>\n",
       "      <td>2022</td>\n",
       "    </tr>\n",
       "  </tbody>\n",
       "</table>\n",
       "</div>"
      ],
      "text/plain": [
       "                    Country           PIB  Year\n",
       "0  United States of America  2.600689e+13  2022\n",
       "1                     China  1.788178e+13  2022\n",
       "2                     India  3.353470e+12  2022"
      ]
     },
     "execution_count": 62,
     "metadata": {},
     "output_type": "execute_result"
    }
   ],
   "source": [
    "df_pib_concat"
   ]
  },
  {
   "cell_type": "code",
   "execution_count": 63,
   "id": "84b12d87",
   "metadata": {},
   "outputs": [],
   "source": [
    "# PARA PODER USAR ESTE DATAFRAME CON EL DATAFRAME PRINCIPAL NECESITAMOS QUE EL NOMBRE DE LOS PAISES SEAN IGUAL A LOS DEL OTRO DF\n",
    "df_pib_concat['Country'] = df_pib_concat['Country'].replace({'United States of America': 'United States'})"
   ]
  },
  {
   "cell_type": "code",
   "execution_count": 64,
   "id": "c88e4bec",
   "metadata": {},
   "outputs": [
    {
     "data": {
      "text/html": [
       "<div>\n",
       "<style scoped>\n",
       "    .dataframe tbody tr th:only-of-type {\n",
       "        vertical-align: middle;\n",
       "    }\n",
       "\n",
       "    .dataframe tbody tr th {\n",
       "        vertical-align: top;\n",
       "    }\n",
       "\n",
       "    .dataframe thead th {\n",
       "        text-align: right;\n",
       "    }\n",
       "</style>\n",
       "<table border=\"1\" class=\"dataframe\">\n",
       "  <thead>\n",
       "    <tr style=\"text-align: right;\">\n",
       "      <th></th>\n",
       "      <th>Country</th>\n",
       "      <th>PIB</th>\n",
       "      <th>Year</th>\n",
       "    </tr>\n",
       "  </thead>\n",
       "  <tbody>\n",
       "    <tr>\n",
       "      <th>0</th>\n",
       "      <td>United States</td>\n",
       "      <td>2.600689e+13</td>\n",
       "      <td>2022</td>\n",
       "    </tr>\n",
       "    <tr>\n",
       "      <th>1</th>\n",
       "      <td>China</td>\n",
       "      <td>1.788178e+13</td>\n",
       "      <td>2022</td>\n",
       "    </tr>\n",
       "    <tr>\n",
       "      <th>2</th>\n",
       "      <td>India</td>\n",
       "      <td>3.353470e+12</td>\n",
       "      <td>2022</td>\n",
       "    </tr>\n",
       "  </tbody>\n",
       "</table>\n",
       "</div>"
      ],
      "text/plain": [
       "         Country           PIB  Year\n",
       "0  United States  2.600689e+13  2022\n",
       "1          China  1.788178e+13  2022\n",
       "2          India  3.353470e+12  2022"
      ]
     },
     "execution_count": 64,
     "metadata": {},
     "output_type": "execute_result"
    }
   ],
   "source": [
    "df_pib_concat"
   ]
  },
  {
   "cell_type": "code",
   "execution_count": 65,
   "id": "ff393a1f",
   "metadata": {},
   "outputs": [],
   "source": [
    "# FILTRO SOLO POR LOS PAISES QUE ME INTERESAN\n",
    "paises_interes = ['United States', 'China', 'India']\n",
    "\n",
    "df_unicornios_filtrado = df_base[df_base['Country'].isin(paises_interes)]"
   ]
  },
  {
   "cell_type": "code",
   "execution_count": 66,
   "id": "35e0d206",
   "metadata": {},
   "outputs": [
    {
     "data": {
      "text/html": [
       "<div>\n",
       "<style scoped>\n",
       "    .dataframe tbody tr th:only-of-type {\n",
       "        vertical-align: middle;\n",
       "    }\n",
       "\n",
       "    .dataframe tbody tr th {\n",
       "        vertical-align: top;\n",
       "    }\n",
       "\n",
       "    .dataframe thead th {\n",
       "        text-align: right;\n",
       "    }\n",
       "</style>\n",
       "<table border=\"1\" class=\"dataframe\">\n",
       "  <thead>\n",
       "    <tr style=\"text-align: right;\">\n",
       "      <th></th>\n",
       "      <th>Company</th>\n",
       "      <th>Valuation</th>\n",
       "      <th>Date Joined</th>\n",
       "      <th>Industry</th>\n",
       "      <th>City</th>\n",
       "      <th>Country</th>\n",
       "      <th>Continent</th>\n",
       "      <th>Year Founded</th>\n",
       "      <th>Funding</th>\n",
       "      <th>Select Investors</th>\n",
       "      <th>Years to Unicorn</th>\n",
       "    </tr>\n",
       "  </thead>\n",
       "  <tbody>\n",
       "    <tr>\n",
       "      <th>1062</th>\n",
       "      <td>Womai</td>\n",
       "      <td>$1B</td>\n",
       "      <td>2015-10-12</td>\n",
       "      <td>E-commerce &amp; direct-to-consumer</td>\n",
       "      <td>Beijing</td>\n",
       "      <td>China</td>\n",
       "      <td>Asia</td>\n",
       "      <td>2009</td>\n",
       "      <td>$330M</td>\n",
       "      <td>SAIF Partners China, Baidu, IDG Capital</td>\n",
       "      <td>6</td>\n",
       "    </tr>\n",
       "    <tr>\n",
       "      <th>1063</th>\n",
       "      <td>Wrapbook</td>\n",
       "      <td>$1B</td>\n",
       "      <td>2021-11-10</td>\n",
       "      <td>Fintech</td>\n",
       "      <td>New York</td>\n",
       "      <td>United States</td>\n",
       "      <td>North America</td>\n",
       "      <td>2018</td>\n",
       "      <td>$131M</td>\n",
       "      <td>Equal Ventures, Uncork Capital, Andreessen Hor...</td>\n",
       "      <td>3</td>\n",
       "    </tr>\n",
       "    <tr>\n",
       "      <th>1065</th>\n",
       "      <td>XForcePlus</td>\n",
       "      <td>$1B</td>\n",
       "      <td>2021-06-01</td>\n",
       "      <td>Internet software &amp; services</td>\n",
       "      <td>Shanghai</td>\n",
       "      <td>China</td>\n",
       "      <td>Asia</td>\n",
       "      <td>2015</td>\n",
       "      <td>$200M</td>\n",
       "      <td>Eastern Bell Capital, Danhua Capital, MSA Capital</td>\n",
       "      <td>6</td>\n",
       "    </tr>\n",
       "    <tr>\n",
       "      <th>1066</th>\n",
       "      <td>YH Global</td>\n",
       "      <td>$1B</td>\n",
       "      <td>2017-09-21</td>\n",
       "      <td>Supply chain, logistics, &amp; delivery</td>\n",
       "      <td>Shenzhen</td>\n",
       "      <td>China</td>\n",
       "      <td>Asia</td>\n",
       "      <td>1997</td>\n",
       "      <td>$182M</td>\n",
       "      <td>Co-Energy Finance, Grandland</td>\n",
       "      <td>20</td>\n",
       "    </tr>\n",
       "    <tr>\n",
       "      <th>1067</th>\n",
       "      <td>YipitData</td>\n",
       "      <td>$1B</td>\n",
       "      <td>2021-12-06</td>\n",
       "      <td>Internet software &amp; services</td>\n",
       "      <td>New York</td>\n",
       "      <td>United States</td>\n",
       "      <td>North America</td>\n",
       "      <td>2008</td>\n",
       "      <td>$492M</td>\n",
       "      <td>RRE Ventures+, Highland Capital Partners, The ...</td>\n",
       "      <td>13</td>\n",
       "    </tr>\n",
       "    <tr>\n",
       "      <th>1068</th>\n",
       "      <td>Yunxuetang</td>\n",
       "      <td>$1B</td>\n",
       "      <td>2021-03-29</td>\n",
       "      <td>Edtech</td>\n",
       "      <td>Suzhou</td>\n",
       "      <td>China</td>\n",
       "      <td>Asia</td>\n",
       "      <td>2011</td>\n",
       "      <td>$389M</td>\n",
       "      <td>Matrix Partners China, Sequoia Capital China, ...</td>\n",
       "      <td>10</td>\n",
       "    </tr>\n",
       "    <tr>\n",
       "      <th>1069</th>\n",
       "      <td>Zhaogang</td>\n",
       "      <td>$1B</td>\n",
       "      <td>2017-06-29</td>\n",
       "      <td>E-commerce &amp; direct-to-consumer</td>\n",
       "      <td>Shanghai</td>\n",
       "      <td>China</td>\n",
       "      <td>Asia</td>\n",
       "      <td>2012</td>\n",
       "      <td>$379M</td>\n",
       "      <td>K2 Ventures, Matrix Partners China, IDG Capital</td>\n",
       "      <td>5</td>\n",
       "    </tr>\n",
       "    <tr>\n",
       "      <th>1070</th>\n",
       "      <td>Zhuan Zhuan</td>\n",
       "      <td>$1B</td>\n",
       "      <td>2017-04-18</td>\n",
       "      <td>E-commerce &amp; direct-to-consumer</td>\n",
       "      <td>Beijing</td>\n",
       "      <td>China</td>\n",
       "      <td>Asia</td>\n",
       "      <td>2015</td>\n",
       "      <td>$990M</td>\n",
       "      <td>58.com, Tencent Holdings</td>\n",
       "      <td>2</td>\n",
       "    </tr>\n",
       "    <tr>\n",
       "      <th>1071</th>\n",
       "      <td>Zihaiguo</td>\n",
       "      <td>$1B</td>\n",
       "      <td>2021-05-06</td>\n",
       "      <td>Consumer &amp; retail</td>\n",
       "      <td>Chongqing</td>\n",
       "      <td>China</td>\n",
       "      <td>Asia</td>\n",
       "      <td>2018</td>\n",
       "      <td>$80M</td>\n",
       "      <td>Xingwang Investment Management, China Capital ...</td>\n",
       "      <td>3</td>\n",
       "    </tr>\n",
       "    <tr>\n",
       "      <th>1073</th>\n",
       "      <td>Zwift</td>\n",
       "      <td>$1B</td>\n",
       "      <td>2020-09-16</td>\n",
       "      <td>E-commerce &amp; direct-to-consumer</td>\n",
       "      <td>Long Beach</td>\n",
       "      <td>United States</td>\n",
       "      <td>North America</td>\n",
       "      <td>2014</td>\n",
       "      <td>$620M</td>\n",
       "      <td>Novator Partners, True, Causeway Media Partners</td>\n",
       "      <td>6</td>\n",
       "    </tr>\n",
       "  </tbody>\n",
       "</table>\n",
       "</div>"
      ],
      "text/plain": [
       "          Company Valuation Date Joined                             Industry  \\\n",
       "1062        Womai       $1B  2015-10-12      E-commerce & direct-to-consumer   \n",
       "1063     Wrapbook       $1B  2021-11-10                              Fintech   \n",
       "1065   XForcePlus       $1B  2021-06-01         Internet software & services   \n",
       "1066    YH Global       $1B  2017-09-21  Supply chain, logistics, & delivery   \n",
       "1067    YipitData       $1B  2021-12-06         Internet software & services   \n",
       "1068   Yunxuetang       $1B  2021-03-29                               Edtech   \n",
       "1069     Zhaogang       $1B  2017-06-29      E-commerce & direct-to-consumer   \n",
       "1070  Zhuan Zhuan       $1B  2017-04-18      E-commerce & direct-to-consumer   \n",
       "1071     Zihaiguo       $1B  2021-05-06                    Consumer & retail   \n",
       "1073        Zwift       $1B  2020-09-16      E-commerce & direct-to-consumer   \n",
       "\n",
       "            City        Country      Continent  Year Founded Funding  \\\n",
       "1062     Beijing          China           Asia          2009   $330M   \n",
       "1063    New York  United States  North America          2018   $131M   \n",
       "1065    Shanghai          China           Asia          2015   $200M   \n",
       "1066    Shenzhen          China           Asia          1997   $182M   \n",
       "1067    New York  United States  North America          2008   $492M   \n",
       "1068      Suzhou          China           Asia          2011   $389M   \n",
       "1069    Shanghai          China           Asia          2012   $379M   \n",
       "1070     Beijing          China           Asia          2015   $990M   \n",
       "1071   Chongqing          China           Asia          2018    $80M   \n",
       "1073  Long Beach  United States  North America          2014   $620M   \n",
       "\n",
       "                                       Select Investors  Years to Unicorn  \n",
       "1062            SAIF Partners China, Baidu, IDG Capital                 6  \n",
       "1063  Equal Ventures, Uncork Capital, Andreessen Hor...                 3  \n",
       "1065  Eastern Bell Capital, Danhua Capital, MSA Capital                 6  \n",
       "1066                       Co-Energy Finance, Grandland                20  \n",
       "1067  RRE Ventures+, Highland Capital Partners, The ...                13  \n",
       "1068  Matrix Partners China, Sequoia Capital China, ...                10  \n",
       "1069    K2 Ventures, Matrix Partners China, IDG Capital                 5  \n",
       "1070                           58.com, Tencent Holdings                 2  \n",
       "1071  Xingwang Investment Management, China Capital ...                 3  \n",
       "1073    Novator Partners, True, Causeway Media Partners                 6  "
      ]
     },
     "execution_count": 66,
     "metadata": {},
     "output_type": "execute_result"
    }
   ],
   "source": [
    "df_unicornios_filtrado.tail(10)"
   ]
  },
  {
   "cell_type": "code",
   "execution_count": 67,
   "id": "4ab8b5c0",
   "metadata": {},
   "outputs": [
    {
     "name": "stderr",
     "output_type": "stream",
     "text": [
      "C:\\Users\\Gilberto\\AppData\\Local\\Temp\\ipykernel_18220\\2493093183.py:11: SettingWithCopyWarning: \n",
      "A value is trying to be set on a copy of a slice from a DataFrame.\n",
      "Try using .loc[row_indexer,col_indexer] = value instead\n",
      "\n",
      "See the caveats in the documentation: https://pandas.pydata.org/pandas-docs/stable/user_guide/indexing.html#returning-a-view-versus-a-copy\n",
      "  df_unicornios_filtrado['Valuation_num'] = df_unicornios_filtrado['Valuation'].apply(convertir_valoracion)\n"
     ]
    }
   ],
   "source": [
    "# SUSTITUIMOS EL SIMBOLO DEL DOLAR PARA QUE PODAMOS TRABAJAR CON LOS NUMEROS Y APARTE LA M DEL FINAL\n",
    "def convertir_valoracion(val):\n",
    "    val = val.replace('$', '').upper()\n",
    "    if 'B' in val:\n",
    "        return float(val.replace('B', '')) * 1e9\n",
    "    elif 'M' in val:\n",
    "        return float(val.replace('M', '')) * 1e6\n",
    "    else:\n",
    "        return float(val)\n",
    "\n",
    "df_unicornios_filtrado['Valuation_num'] = df_unicornios_filtrado['Valuation'].apply(convertir_valoracion)"
   ]
  },
  {
   "cell_type": "code",
   "execution_count": 68,
   "id": "27f58160",
   "metadata": {},
   "outputs": [],
   "source": [
    "# SACAMOS LA SUMA TOTAL DEL VALOR DE LAS STARTUPS POR PAISES\n",
    "suma_valoracion_pais = df_unicornios_filtrado.groupby('Country')['Valuation_num'].sum().reset_index()"
   ]
  },
  {
   "cell_type": "code",
   "execution_count": 69,
   "id": "84347d35",
   "metadata": {},
   "outputs": [
    {
     "data": {
      "text/html": [
       "<div>\n",
       "<style scoped>\n",
       "    .dataframe tbody tr th:only-of-type {\n",
       "        vertical-align: middle;\n",
       "    }\n",
       "\n",
       "    .dataframe tbody tr th {\n",
       "        vertical-align: top;\n",
       "    }\n",
       "\n",
       "    .dataframe thead th {\n",
       "        text-align: right;\n",
       "    }\n",
       "</style>\n",
       "<table border=\"1\" class=\"dataframe\">\n",
       "  <thead>\n",
       "    <tr style=\"text-align: right;\">\n",
       "      <th></th>\n",
       "      <th>Country</th>\n",
       "      <th>Valuation_num</th>\n",
       "    </tr>\n",
       "  </thead>\n",
       "  <tbody>\n",
       "    <tr>\n",
       "      <th>0</th>\n",
       "      <td>China</td>\n",
       "      <td>6.960000e+11</td>\n",
       "    </tr>\n",
       "    <tr>\n",
       "      <th>1</th>\n",
       "      <td>India</td>\n",
       "      <td>1.960000e+11</td>\n",
       "    </tr>\n",
       "    <tr>\n",
       "      <th>2</th>\n",
       "      <td>United States</td>\n",
       "      <td>1.933000e+12</td>\n",
       "    </tr>\n",
       "  </tbody>\n",
       "</table>\n",
       "</div>"
      ],
      "text/plain": [
       "         Country  Valuation_num\n",
       "0          China   6.960000e+11\n",
       "1          India   1.960000e+11\n",
       "2  United States   1.933000e+12"
      ]
     },
     "execution_count": 69,
     "metadata": {},
     "output_type": "execute_result"
    }
   ],
   "source": [
    "suma_valoracion_pais"
   ]
  },
  {
   "cell_type": "code",
   "execution_count": 70,
   "id": "51aa8fdf",
   "metadata": {},
   "outputs": [],
   "source": [
    "# AHORA JUNTAMOS PARA PODER HACER LA OPERACION\n",
    "df_analisis = pd.merge(df_pib_concat, suma_valoracion_pais, on='Country')"
   ]
  },
  {
   "cell_type": "code",
   "execution_count": 71,
   "id": "9ba3782c",
   "metadata": {},
   "outputs": [],
   "source": [
    "# ESTO LO ESTAMOS HACIENDO PORQUE NO TODAS LAS STARTUPS UNICORNIOS MUESTRAN EL APORTE Y LA GANANCIA\n",
    "# QUEREMOS SACAR UN APROXIMADO SUMANDO EL VALOR TOTAL DE LAS STARTUPS DE UN PAIS Y HACIENDO UNA FORMULA PARA \n",
    "# HACER UNA ESTIMACION DE CUANTO CONTRIBUYE EN EL PIB"
   ]
  },
  {
   "cell_type": "code",
   "execution_count": 72,
   "id": "af0bde3a",
   "metadata": {},
   "outputs": [
    {
     "data": {
      "text/html": [
       "<div>\n",
       "<style scoped>\n",
       "    .dataframe tbody tr th:only-of-type {\n",
       "        vertical-align: middle;\n",
       "    }\n",
       "\n",
       "    .dataframe tbody tr th {\n",
       "        vertical-align: top;\n",
       "    }\n",
       "\n",
       "    .dataframe thead th {\n",
       "        text-align: right;\n",
       "    }\n",
       "</style>\n",
       "<table border=\"1\" class=\"dataframe\">\n",
       "  <thead>\n",
       "    <tr style=\"text-align: right;\">\n",
       "      <th></th>\n",
       "      <th>Country</th>\n",
       "      <th>PIB</th>\n",
       "      <th>Year</th>\n",
       "      <th>Valuation_num</th>\n",
       "    </tr>\n",
       "  </thead>\n",
       "  <tbody>\n",
       "    <tr>\n",
       "      <th>0</th>\n",
       "      <td>United States</td>\n",
       "      <td>2.600689e+13</td>\n",
       "      <td>2022</td>\n",
       "      <td>1.933000e+12</td>\n",
       "    </tr>\n",
       "    <tr>\n",
       "      <th>1</th>\n",
       "      <td>China</td>\n",
       "      <td>1.788178e+13</td>\n",
       "      <td>2022</td>\n",
       "      <td>6.960000e+11</td>\n",
       "    </tr>\n",
       "    <tr>\n",
       "      <th>2</th>\n",
       "      <td>India</td>\n",
       "      <td>3.353470e+12</td>\n",
       "      <td>2022</td>\n",
       "      <td>1.960000e+11</td>\n",
       "    </tr>\n",
       "  </tbody>\n",
       "</table>\n",
       "</div>"
      ],
      "text/plain": [
       "         Country           PIB  Year  Valuation_num\n",
       "0  United States  2.600689e+13  2022   1.933000e+12\n",
       "1          China  1.788178e+13  2022   6.960000e+11\n",
       "2          India  3.353470e+12  2022   1.960000e+11"
      ]
     },
     "execution_count": 72,
     "metadata": {},
     "output_type": "execute_result"
    }
   ],
   "source": [
    "df_analisis"
   ]
  },
  {
   "cell_type": "code",
   "execution_count": 73,
   "id": "56375013",
   "metadata": {},
   "outputs": [],
   "source": [
    "# CREAMOS LA COLUMNA PARA INTEGRAR EL VALOR EN PORCENTAJE DE LA CONTRIBUCION DE LOS UNICORNIOS AL PIB\n",
    "df_analisis['Contribucion_Unicornios_PIB'] = (df_analisis['Valuation_num'] / df_analisis['PIB']) * 100"
   ]
  },
  {
   "cell_type": "code",
   "execution_count": 74,
   "id": "964b8bee",
   "metadata": {},
   "outputs": [
    {
     "data": {
      "text/html": [
       "<div>\n",
       "<style scoped>\n",
       "    .dataframe tbody tr th:only-of-type {\n",
       "        vertical-align: middle;\n",
       "    }\n",
       "\n",
       "    .dataframe tbody tr th {\n",
       "        vertical-align: top;\n",
       "    }\n",
       "\n",
       "    .dataframe thead th {\n",
       "        text-align: right;\n",
       "    }\n",
       "</style>\n",
       "<table border=\"1\" class=\"dataframe\">\n",
       "  <thead>\n",
       "    <tr style=\"text-align: right;\">\n",
       "      <th></th>\n",
       "      <th>Country</th>\n",
       "      <th>PIB</th>\n",
       "      <th>Year</th>\n",
       "      <th>Valuation_num</th>\n",
       "      <th>Contribucion_Unicornios_PIB</th>\n",
       "    </tr>\n",
       "  </thead>\n",
       "  <tbody>\n",
       "    <tr>\n",
       "      <th>0</th>\n",
       "      <td>United States</td>\n",
       "      <td>2.600689e+13</td>\n",
       "      <td>2022</td>\n",
       "      <td>1.933000e+12</td>\n",
       "      <td>7.432645</td>\n",
       "    </tr>\n",
       "    <tr>\n",
       "      <th>1</th>\n",
       "      <td>China</td>\n",
       "      <td>1.788178e+13</td>\n",
       "      <td>2022</td>\n",
       "      <td>6.960000e+11</td>\n",
       "      <td>3.892229</td>\n",
       "    </tr>\n",
       "    <tr>\n",
       "      <th>2</th>\n",
       "      <td>India</td>\n",
       "      <td>3.353470e+12</td>\n",
       "      <td>2022</td>\n",
       "      <td>1.960000e+11</td>\n",
       "      <td>5.844691</td>\n",
       "    </tr>\n",
       "  </tbody>\n",
       "</table>\n",
       "</div>"
      ],
      "text/plain": [
       "         Country           PIB  Year  Valuation_num  \\\n",
       "0  United States  2.600689e+13  2022   1.933000e+12   \n",
       "1          China  1.788178e+13  2022   6.960000e+11   \n",
       "2          India  3.353470e+12  2022   1.960000e+11   \n",
       "\n",
       "   Contribucion_Unicornios_PIB  \n",
       "0                     7.432645  \n",
       "1                     3.892229  \n",
       "2                     5.844691  "
      ]
     },
     "execution_count": 74,
     "metadata": {},
     "output_type": "execute_result"
    }
   ],
   "source": [
    "df_analisis"
   ]
  },
  {
   "cell_type": "code",
   "execution_count": 75,
   "id": "927c98d3",
   "metadata": {},
   "outputs": [
    {
     "name": "stdout",
     "output_type": "stream",
     "text": [
      "United States: $1,933,000,000,000\n",
      "China: $696,000,000,000\n",
      "India: $196,000,000,000\n"
     ]
    }
   ],
   "source": [
    "# QUEREMOS SABER EL NUMERO EXACTO DEL APORTE EN DOLARES, PORQUE EN MIS DATAFRAME ME APARECE EN NOTACION CIENTIFICA LO RECORREMOS Y FORMATEAMOS PARA QUE ME DE LA VISTA EN DOLARES\n",
    "for idx, row in df_analisis.iterrows():\n",
    "    pais = row['Country']\n",
    "    valor = row['Valuation_num']\n",
    "    print(f\"{pais}: ${valor:,.0f}\")"
   ]
  },
  {
   "cell_type": "code",
   "execution_count": 76,
   "id": "9c73203c",
   "metadata": {},
   "outputs": [
    {
     "data": {
      "text/plain": [
       "Text(0.5, 1.0, 'PIB y Valoración Total de Unicornios por País (2022)')"
      ]
     },
     "execution_count": 76,
     "metadata": {},
     "output_type": "execute_result"
    },
    {
     "data": {
      "image/png": "[encoded data removed]",
      "text/plain": [
       "<Figure size 800x500 with 1 Axes>"
      ]
     },
     "metadata": {},
     "output_type": "display_data"
    }
   ],
   "source": [
    "# GRAFICAMOS PARA SABER CUANTO CONTRIBUYE COMPARANDOLO JUNTO AL PIB, A ESA GRAFICA AGREGAREMOS EL VALOR TOTAL EN DOLARES PARA VISUALIZAR EL MONTO \n",
    "df_analisis['PIB_billones'] = df_analisis['PIB'] / 1e12\n",
    "df_analisis['Valuation_billones'] = df_analisis['Valuation_num'] / 1e12\n",
    "\n",
    "df_analisis.set_index('Country')[['PIB_billones', 'Valuation_billones']].plot(kind = 'bar', figsize = (8,5))\n",
    "\n",
    "plt.ylabel('Billones de USD')\n",
    "plt.title('PIB y Valoración Total de Unicornios por País (2022)')"
   ]
  },
  {
   "cell_type": "code",
   "execution_count": 77,
   "id": "ab05aa7f",
   "metadata": {},
   "outputs": [],
   "source": [
    "# AHORA HACEMOS UN FILTRO DE LAS STARTUPS QUE LLEGARON A LA CATEGORIA DE UNICORNIOS DESDE EL 2013 HASTA EL 2022\n",
    "df_filtrado = df_base[(df_base['Date Joined'].dt.year >= 2013) & (df_base['Date Joined'].dt.year <= 2022)]"
   ]
  },
  {
   "cell_type": "code",
   "execution_count": 78,
   "id": "bdfd1605",
   "metadata": {},
   "outputs": [
    {
     "data": {
      "text/html": [
       "<div>\n",
       "<style scoped>\n",
       "    .dataframe tbody tr th:only-of-type {\n",
       "        vertical-align: middle;\n",
       "    }\n",
       "\n",
       "    .dataframe tbody tr th {\n",
       "        vertical-align: top;\n",
       "    }\n",
       "\n",
       "    .dataframe thead th {\n",
       "        text-align: right;\n",
       "    }\n",
       "</style>\n",
       "<table border=\"1\" class=\"dataframe\">\n",
       "  <thead>\n",
       "    <tr style=\"text-align: right;\">\n",
       "      <th></th>\n",
       "      <th>Company</th>\n",
       "      <th>Valuation</th>\n",
       "      <th>Date Joined</th>\n",
       "      <th>Industry</th>\n",
       "      <th>City</th>\n",
       "      <th>Country</th>\n",
       "      <th>Continent</th>\n",
       "      <th>Year Founded</th>\n",
       "      <th>Funding</th>\n",
       "      <th>Select Investors</th>\n",
       "      <th>Years to Unicorn</th>\n",
       "    </tr>\n",
       "  </thead>\n",
       "  <tbody>\n",
       "    <tr>\n",
       "      <th>0</th>\n",
       "      <td>Bytedance</td>\n",
       "      <td>$180B</td>\n",
       "      <td>2017-04-07</td>\n",
       "      <td>Artificial intelligence</td>\n",
       "      <td>Beijing</td>\n",
       "      <td>China</td>\n",
       "      <td>Asia</td>\n",
       "      <td>2012</td>\n",
       "      <td>$8B</td>\n",
       "      <td>Sequoia Capital China, SIG Asia Investments, S...</td>\n",
       "      <td>5</td>\n",
       "    </tr>\n",
       "    <tr>\n",
       "      <th>2</th>\n",
       "      <td>SHEIN</td>\n",
       "      <td>$100B</td>\n",
       "      <td>2018-07-03</td>\n",
       "      <td>E-commerce &amp; direct-to-consumer</td>\n",
       "      <td>Shenzhen</td>\n",
       "      <td>China</td>\n",
       "      <td>Asia</td>\n",
       "      <td>2008</td>\n",
       "      <td>$2B</td>\n",
       "      <td>Tiger Global Management, Sequoia Capital China...</td>\n",
       "      <td>10</td>\n",
       "    </tr>\n",
       "    <tr>\n",
       "      <th>3</th>\n",
       "      <td>Stripe</td>\n",
       "      <td>$95B</td>\n",
       "      <td>2014-01-23</td>\n",
       "      <td>Fintech</td>\n",
       "      <td>San Francisco</td>\n",
       "      <td>United States</td>\n",
       "      <td>North America</td>\n",
       "      <td>2010</td>\n",
       "      <td>$2B</td>\n",
       "      <td>Khosla Ventures, LowercaseCapital, capitalG</td>\n",
       "      <td>4</td>\n",
       "    </tr>\n",
       "    <tr>\n",
       "      <th>5</th>\n",
       "      <td>Canva</td>\n",
       "      <td>$40B</td>\n",
       "      <td>2018-01-08</td>\n",
       "      <td>Internet software &amp; services</td>\n",
       "      <td>Surry Hills</td>\n",
       "      <td>Australia</td>\n",
       "      <td>Oceania</td>\n",
       "      <td>2012</td>\n",
       "      <td>$572M</td>\n",
       "      <td>Sequoia Capital China, Blackbird Ventures, Mat...</td>\n",
       "      <td>6</td>\n",
       "    </tr>\n",
       "    <tr>\n",
       "      <th>6</th>\n",
       "      <td>Checkout.com</td>\n",
       "      <td>$40B</td>\n",
       "      <td>2019-05-02</td>\n",
       "      <td>Fintech</td>\n",
       "      <td>London</td>\n",
       "      <td>United Kingdom</td>\n",
       "      <td>Europe</td>\n",
       "      <td>2012</td>\n",
       "      <td>$2B</td>\n",
       "      <td>Tiger Global Management, Insight Partners, DST...</td>\n",
       "      <td>7</td>\n",
       "    </tr>\n",
       "  </tbody>\n",
       "</table>\n",
       "</div>"
      ],
      "text/plain": [
       "        Company Valuation Date Joined                         Industry  \\\n",
       "0     Bytedance     $180B  2017-04-07          Artificial intelligence   \n",
       "2         SHEIN     $100B  2018-07-03  E-commerce & direct-to-consumer   \n",
       "3        Stripe      $95B  2014-01-23                          Fintech   \n",
       "5         Canva      $40B  2018-01-08     Internet software & services   \n",
       "6  Checkout.com      $40B  2019-05-02                          Fintech   \n",
       "\n",
       "            City         Country      Continent  Year Founded Funding  \\\n",
       "0        Beijing           China           Asia          2012     $8B   \n",
       "2       Shenzhen           China           Asia          2008     $2B   \n",
       "3  San Francisco   United States  North America          2010     $2B   \n",
       "5    Surry Hills       Australia        Oceania          2012   $572M   \n",
       "6         London  United Kingdom         Europe          2012     $2B   \n",
       "\n",
       "                                    Select Investors  Years to Unicorn  \n",
       "0  Sequoia Capital China, SIG Asia Investments, S...                 5  \n",
       "2  Tiger Global Management, Sequoia Capital China...                10  \n",
       "3        Khosla Ventures, LowercaseCapital, capitalG                 4  \n",
       "5  Sequoia Capital China, Blackbird Ventures, Mat...                 6  \n",
       "6  Tiger Global Management, Insight Partners, DST...                 7  "
      ]
     },
     "execution_count": 78,
     "metadata": {},
     "output_type": "execute_result"
    }
   ],
   "source": [
    "df_filtrado.head(5)"
   ]
  },
  {
   "cell_type": "code",
   "execution_count": 79,
   "id": "32725a3c",
   "metadata": {},
   "outputs": [
    {
     "data": {
      "text/html": [
       "<div>\n",
       "<style scoped>\n",
       "    .dataframe tbody tr th:only-of-type {\n",
       "        vertical-align: middle;\n",
       "    }\n",
       "\n",
       "    .dataframe tbody tr th {\n",
       "        vertical-align: top;\n",
       "    }\n",
       "\n",
       "    .dataframe thead th {\n",
       "        text-align: right;\n",
       "    }\n",
       "</style>\n",
       "<table border=\"1\" class=\"dataframe\">\n",
       "  <thead>\n",
       "    <tr style=\"text-align: right;\">\n",
       "      <th></th>\n",
       "      <th>Company</th>\n",
       "      <th>Valuation</th>\n",
       "      <th>Date Joined</th>\n",
       "      <th>Industry</th>\n",
       "      <th>City</th>\n",
       "      <th>Country</th>\n",
       "      <th>Continent</th>\n",
       "      <th>Year Founded</th>\n",
       "      <th>Funding</th>\n",
       "      <th>Select Investors</th>\n",
       "      <th>Years to Unicorn</th>\n",
       "    </tr>\n",
       "  </thead>\n",
       "  <tbody>\n",
       "    <tr>\n",
       "      <th>1069</th>\n",
       "      <td>Zhaogang</td>\n",
       "      <td>$1B</td>\n",
       "      <td>2017-06-29</td>\n",
       "      <td>E-commerce &amp; direct-to-consumer</td>\n",
       "      <td>Shanghai</td>\n",
       "      <td>China</td>\n",
       "      <td>Asia</td>\n",
       "      <td>2012</td>\n",
       "      <td>$379M</td>\n",
       "      <td>K2 Ventures, Matrix Partners China, IDG Capital</td>\n",
       "      <td>5</td>\n",
       "    </tr>\n",
       "    <tr>\n",
       "      <th>1070</th>\n",
       "      <td>Zhuan Zhuan</td>\n",
       "      <td>$1B</td>\n",
       "      <td>2017-04-18</td>\n",
       "      <td>E-commerce &amp; direct-to-consumer</td>\n",
       "      <td>Beijing</td>\n",
       "      <td>China</td>\n",
       "      <td>Asia</td>\n",
       "      <td>2015</td>\n",
       "      <td>$990M</td>\n",
       "      <td>58.com, Tencent Holdings</td>\n",
       "      <td>2</td>\n",
       "    </tr>\n",
       "    <tr>\n",
       "      <th>1071</th>\n",
       "      <td>Zihaiguo</td>\n",
       "      <td>$1B</td>\n",
       "      <td>2021-05-06</td>\n",
       "      <td>Consumer &amp; retail</td>\n",
       "      <td>Chongqing</td>\n",
       "      <td>China</td>\n",
       "      <td>Asia</td>\n",
       "      <td>2018</td>\n",
       "      <td>$80M</td>\n",
       "      <td>Xingwang Investment Management, China Capital ...</td>\n",
       "      <td>3</td>\n",
       "    </tr>\n",
       "    <tr>\n",
       "      <th>1072</th>\n",
       "      <td>Zopa</td>\n",
       "      <td>$1B</td>\n",
       "      <td>2021-10-19</td>\n",
       "      <td>Fintech</td>\n",
       "      <td>London</td>\n",
       "      <td>United Kingdom</td>\n",
       "      <td>Europe</td>\n",
       "      <td>2005</td>\n",
       "      <td>$792M</td>\n",
       "      <td>IAG Capital Partners, Augmentum Fintech, North...</td>\n",
       "      <td>16</td>\n",
       "    </tr>\n",
       "    <tr>\n",
       "      <th>1073</th>\n",
       "      <td>Zwift</td>\n",
       "      <td>$1B</td>\n",
       "      <td>2020-09-16</td>\n",
       "      <td>E-commerce &amp; direct-to-consumer</td>\n",
       "      <td>Long Beach</td>\n",
       "      <td>United States</td>\n",
       "      <td>North America</td>\n",
       "      <td>2014</td>\n",
       "      <td>$620M</td>\n",
       "      <td>Novator Partners, True, Causeway Media Partners</td>\n",
       "      <td>6</td>\n",
       "    </tr>\n",
       "  </tbody>\n",
       "</table>\n",
       "</div>"
      ],
      "text/plain": [
       "          Company Valuation Date Joined                         Industry  \\\n",
       "1069     Zhaogang       $1B  2017-06-29  E-commerce & direct-to-consumer   \n",
       "1070  Zhuan Zhuan       $1B  2017-04-18  E-commerce & direct-to-consumer   \n",
       "1071     Zihaiguo       $1B  2021-05-06                Consumer & retail   \n",
       "1072         Zopa       $1B  2021-10-19                          Fintech   \n",
       "1073        Zwift       $1B  2020-09-16  E-commerce & direct-to-consumer   \n",
       "\n",
       "            City         Country      Continent  Year Founded Funding  \\\n",
       "1069    Shanghai           China           Asia          2012   $379M   \n",
       "1070     Beijing           China           Asia          2015   $990M   \n",
       "1071   Chongqing           China           Asia          2018    $80M   \n",
       "1072      London  United Kingdom         Europe          2005   $792M   \n",
       "1073  Long Beach   United States  North America          2014   $620M   \n",
       "\n",
       "                                       Select Investors  Years to Unicorn  \n",
       "1069    K2 Ventures, Matrix Partners China, IDG Capital                 5  \n",
       "1070                           58.com, Tencent Holdings                 2  \n",
       "1071  Xingwang Investment Management, China Capital ...                 3  \n",
       "1072  IAG Capital Partners, Augmentum Fintech, North...                16  \n",
       "1073    Novator Partners, True, Causeway Media Partners                 6  "
      ]
     },
     "execution_count": 79,
     "metadata": {},
     "output_type": "execute_result"
    }
   ],
   "source": [
    "df_filtrado.tail(5)"
   ]
  },
  {
   "cell_type": "code",
   "execution_count": 80,
   "id": "1375248d",
   "metadata": {},
   "outputs": [],
   "source": [
    "unicorns_por_ano = df_filtrado['Date Joined'].dt.year.value_counts().sort_index()"
   ]
  },
  {
   "cell_type": "code",
   "execution_count": 81,
   "id": "6ac5712a",
   "metadata": {},
   "outputs": [
    {
     "data": {
      "text/plain": [
       "Date Joined\n",
       "2013      3\n",
       "2014     13\n",
       "2015     35\n",
       "2016     21\n",
       "2017     44\n",
       "2018    103\n",
       "2019    104\n",
       "2020    108\n",
       "2021    520\n",
       "2022    116\n",
       "Name: count, dtype: int64"
      ]
     },
     "execution_count": 81,
     "metadata": {},
     "output_type": "execute_result"
    }
   ],
   "source": [
    "# CONTAMOS CUANTAS STARTUPS ALCANZARON EL ESTATUS UNICORNIO EN CADA AÑO\n",
    "unicorns_por_ano"
   ]
  },
  {
   "cell_type": "code",
   "execution_count": 82,
   "id": "ec52d416",
   "metadata": {},
   "outputs": [
    {
     "data": {
      "image/png": "[encoded data removed]",
      "text/plain": [
       "<Figure size 1000x600 with 1 Axes>"
      ]
     },
     "metadata": {},
     "output_type": "display_data"
    }
   ],
   "source": [
    "# LO GRAFICAMOS PARA VISUALIZAR COMO FUE EL CRECIMIENTO\n",
    "plt.figure(figsize = (10,6))\n",
    "plt.plot(unicorns_por_ano.index, unicorns_por_ano.values, marker = 'o', linestyle = '-', color = 'blue')\n",
    "plt.title('Crecimiento de Startups Unicornio (2013–2022)', fontsize = 10, fontweight = 'bold')\n",
    "plt.xlabel('Año', fontsize = 12)\n",
    "plt.ylabel('Número de Unicornios', fontsize = 12)\n",
    "plt.grid(True, linestyle ='--', alpha = 0.5)\n",
    "plt.xticks(unicorns_por_ano.index);"
   ]
  }
 ],
 "metadata": {
  "kernelspec": {
   "display_name": "Python 3",
   "language": "python",
   "name": "python3"
  },
  "language_info": {
   "codemirror_mode": {
    "name": "ipython",
    "version": 3
   },
   "file_extension": ".py",
   "mimetype": "text/x-python",
   "name": "python",
   "nbconvert_exporter": "python",
   "pygments_lexer": "ipython3",
   "version": "3.13.3"
  }
 },
 "nbformat": 4,
 "nbformat_minor": 5
}
