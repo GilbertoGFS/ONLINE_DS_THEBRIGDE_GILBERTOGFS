{
 "cells": [
  {
   "cell_type": "markdown",
   "id": "c97bdfe5-4d51-43da-a1b8-8669955d7deb",
   "metadata": {},
   "source": [
    "{\"cells\":[{\"cell_type\":\"markdown\",\"id\":\"59ec229f\",\"metadata\":{\"id\":\"59ec229f\"},\"source\":[\"<img src=\\\"./img/TheBridge_logo_RGB_color.jpg\\\" width = 500>\"]},{\"cell_type\":\"markdown\",\"id\":\"30a2c01b\",\"metadata\":{\"id\":\"30a2c01b\"},\"source\":[\"# EJERCICIOS MARKDOWN (I)\"]},{\"cell_type\":\"markdown\",\"id\":\"e165fb0c\",\"metadata\":{\"id\":\"e165fb0c\"},\"source\":[\"Aquí tienes cinco sencillos ejercicios para practicar lo aprendido en la primera sesión de Markdown. Utiliza las celdas que hay debajo de cada enunciado y recuerda convertirlas a Markdown primero ;-)\"]},{\"cell_type\":\"markdown\",\"id\":\"5f74096f\",\"metadata\":{\"id\":\"5f74096f\"},\"source\":[\"\\n\",\"\\n\",\"### Ejercicio 1: Cabeceras\\n\",\"Crea las siguientes cabeceras:\\n\",\"\\n\",\"1. Una cabecera de nivel 1 con el texto \\\"Ciencia de Datos\\\".\\n\",\"2. Una cabecera de nivel 2 con el texto \\\"Introducción\\\".\\n\",\"3. Una cabecera de nivel 3 con el texto \\\"Herramientas\\\".\"]},{\"cell_type\":\"markdown\",\"source\":[\"# Ciencia de Datos\\n\",\"## Introducción\\n\",\"### Herramientas\"],\"metadata\":{\"id\":\"AjjxA1eF4oke\"},\"id\":\"AjjxA1eF4oke\"},{\"cell_type\":\"markdown\",\"id\":\"4b636168\",\"metadata\":{\"id\":\"4b636168\"},\"source\":[\"### Ejercicio 2: Estilos de texto\\n\",\"Escribe una frase que contenga las siguientes características:\\n\",\"\\n\",\"1. La palabra \\\"Markdown\\\" en negritas.\\n\",\"2. La palabra \\\"Jupyter\\\" en cursivas.\\n\",\"3. La palabra \\\"Python\\\" en negritas y cursivas.\"]},{\"cell_type\":\"markdown\",\"source\":[\"Estoy apriendiendo a utilizar **Markdown** y se que lo dominaré.  \\n\",\"Creo que tengo otra versión de *Jupyter* porque me sale al lado la reproducción directamente.  \\n\",\"Tengo muchas ganas de aprender ***Python***.\\n\",\"\\n\"],\"metadata\":{\"id\":\"z1oHZHg1AFw2\"},\"id\":\"z1oHZHg1AFw2\"},{\"cell_type\":\"markdown\",\"source\":[\"Aquí, con **Markdown**  \\n\",\"Y *Jupyter* se ha unido al grupo  \\n\",\"¿Ganas? Ganazas de aprender ***Python***\"],\"metadata\":{\"id\":\"ODrEW_8N4aCh\"},\"id\":\"ODrEW_8N4aCh\"},{\"cell_type\":\"markdown\",\"id\":\"61fd2979\",\"metadata\":{\"id\":\"61fd2979\"},\"source\":[\"### Ejercicio 3: Resaltados y HTML\\n\",\"Crea una línea que contenga:\\n\",\"\\n\",\"1. La palabra \\\"resaltado\\\" con un fondo amarillo usando Markdown.\\n\",\"2. La palabra \\\"color\\\" en azul usando HTML.\\n\",\"\\n\",\"Para este ejercicio tendrás que buscar un poco más en internet, venga que tú puedes.\"]},{\"cell_type\":\"markdown\",\"source\":[\"\\n\",\"<font color=\\\"blue\\\">color</font>\"],\"metadata\":{\"id\":\"TVpHOgAM5WTM\"},\"id\":\"TVpHOgAM5WTM\"},{\"cell_type\":\"markdown\",\"source\":[\"<mark>resaltado</mark>  \\n\",\"<font color=\\\"blue\\\"> color </font>\"],\"metadata\":{\"id\":\"QZ9D_R3BBst_\"},\"id\":\"QZ9D_R3BBst_\"},{\"cell_type\":\"markdown\",\"id\":\"a91386ca\",\"metadata\":{\"id\":\"a91386ca\"},\"source\":[\"### Ejercicio 4: Citas\\n\",\"Incluye la siguiente cita:\\n\",\"\\n\",\"> La Ciencia de Datos es el petróleo del siglo XXI.\\n\",\"\\n\",\"En uno y dos niveles de cita\"]},{\"cell_type\":\"markdown\",\"source\":[\">La Ciencia de datos es el petróleo del siglo XXI\\n\",\">>La Ciencia de Datos es el petróleo del siglo XXI\"],\"metadata\":{\"id\":\"FOvZIAc-jFY5\"},\"id\":\"FOvZIAc-jFY5\"},{\"cell_type\":\"markdown\",\"id\":\"35f0595a\",\"metadata\":{\"id\":\"35f0595a\"},\"source\":[\"### Ejercicio 5: Combinando todo\\n\",\"Crea un texto que combine lo siguiente:\\n\",\"\\n\",\"1. Una cabecera de nivel 2 con el texto \\\"Curso de Markdown\\\".\\n\",\"2. Una frase que contenga la palabra \\\"importante\\\" en negritas.\\n\",\"3. Una cita que diga: \\\"Aprender es crecer\\\".\\n\",\"4. La palabra \\\"ejemplo\\\" en cursivas y con un fondo verde usando HTML.\\n\",\"\\n\",\"Nota: Si no has sido capaz de encontrar como dar color de fondo usando HTML quizás <span style=\\\"background-color:yellow\\\">*tienes que buscar más cerca de ti*</span>\\n\"]},{\"cell_type\":\"markdown\",\"source\":[\"## Curso de Markdown  \\n\",\"Es muy **importante** practicar lo aprendido.  \\n\",\">Aprender es crecer.\\n\"],\"metadata\":{\"id\":\"2l9hMdjx6SlC\"},\"id\":\"2l9hMdjx6SlC\"},{\"cell_type\":\"markdown\",\"source\":[\"<span style=\\\"background-color:lightgreen\\\"><i>ejemplo<i></span>  \"],\"metadata\":{\"id\":\"RUogNLIwF9Po\"},\"id\":\"RUogNLIwF9Po\"},{\"cell_type\":\"code\",\"source\":[\"#No soy capaz que se me vea con el fondo verde\"],\"metadata\":{\"id\":\"nBu7VwrFVMZg\"},\"id\":\"nBu7VwrFVMZg\",\"execution_count\":null,\"outputs\":[]}],\"metadata\":{\"kernelspec\":{\"display_name\":\"Python 3 (ipykernel)\",\"language\":\"python\",\"name\":\"python3\"},\"language_info\":{\"codemirror_mode\":{\"name\":\"ipython\",\"version\":3},\"file_extension\":\".py\",\"mimetype\":\"text/x-python\",\"name\":\"python\",\"nbconvert_exporter\":\"python\",\"pygments_lexer\":\"ipython3\",\"version\":\"3.11.5\"},\"colab\":{\"provenance\":[]}},\"nbformat\":4,\"nbformat_minor\":5}\n"
   ]
  },
  {
   "cell_type": "markdown",
   "id": "fe5b9eab-15e0-4d57-a700-da54b22a7918",
   "metadata": {},
   "source": [
    "# Ciencia de Datos \n",
    "## Introducción\n",
    "### Herramientas"
   ]
  },
  {
   "cell_type": "markdown",
   "id": "325c5d0d-e3c7-4664-b5f2-2e3b18286c42",
   "metadata": {},
   "source": [
    "Creo que tengo otra version de *Jupyther* porque me sale al lado la reproduccion directamente"
   ]
  },
  {
   "cell_type": "markdown",
   "id": "7361e5d5-3809-48db-9fa0-3b49f9cce373",
   "metadata": {},
   "source": [
    "Estoy aprendiendo a utilizar **Markdown** y se que lo dominare"
   ]
  },
  {
   "cell_type": "markdown",
   "id": "9d3f4e6f-47dc-4711-ba91-fee11937b27e",
   "metadata": {},
   "source": [
    "Tengo muchas ganas de aprender ***Python***"
   ]
  },
  {
   "cell_type": "markdown",
   "id": "f5457a3d-ff08-4dda-b82c-be8362a25802",
   "metadata": {},
   "source": [
    "<p style=\"background-color: yellow;\">Resaltado.</p>  "
   ]
  },
  {
   "cell_type": "markdown",
   "id": "8b473098-007d-4cf3-890c-d1668cd1b804",
   "metadata": {},
   "source": [
    "<div style=\"background-color: blue;\"> <h1>color</h1>"
   ]
  },
  {
   "cell_type": "markdown",
   "id": "a070d1c3-a6a9-47d7-b14b-dc6a213c2ce8",
   "metadata": {},
   "source": [
    ">La ciencia de datos es el petróleo del siglo XXI\n",
    ">>"
   ]
  },
  {
   "cell_type": "markdown",
   "id": "3db16fd0-2901-48d1-898f-04ba8ac6e7f4",
   "metadata": {},
   "source": [
    "## Curso de mark downk\n",
    "**IMPORTANTE**\n",
    ">Aprender es crecer  \n",
    "*<div style=\"background-color: green;\"><h1>ejemplo</h1>*"
   ]
  },
  {
   "cell_type": "code",
   "execution_count": null,
   "id": "52b9ef45-6d8f-4b4a-a8d7-6fa5ba7aa290",
   "metadata": {},
   "outputs": [],
   "source": []
  },
  {
   "cell_type": "code",
   "execution_count": null,
   "id": "72e5b631-f955-4285-a6b4-46ccb7009c45",
   "metadata": {},
   "outputs": [],
   "source": []
  }
 ],
 "metadata": {
  "kernelspec": {
   "display_name": "Python 3 (ipykernel)",
   "language": "python",
   "name": "python3"
  },
  "language_info": {
   "codemirror_mode": {
    "name": "ipython",
    "version": 3
   },
   "file_extension": ".py",
   "mimetype": "text/x-python",
   "name": "python",
   "nbconvert_exporter": "python",
   "pygments_lexer": "ipython3",
   "version": "3.13.3"
  }
 },
 "nbformat": 4,
 "nbformat_minor": 5
}
